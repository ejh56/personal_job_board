{
 "cells": [
  {
   "cell_type": "code",
   "execution_count": 1,
   "metadata": {},
   "outputs": [],
   "source": [
    "import pandas as pd\n",
    "import requests\n",
    "import bs4\n",
    "import re\n",
    "\n",
    "CSV = False"
   ]
  },
  {
   "cell_type": "markdown",
   "metadata": {},
   "source": [
    "# Scraping HR Hosted Job Boards\n",
    "\n",
    "Goal:\n",
    "\n",
    "**Set up templates to scrape most common HR Software hosted job boards**\n",
    "\n",
    "\n",
    "Steps:\n",
    "1. Clean up data from manual entry\n",
    "2. Subset data for specific HR Tools\n",
    "3. Build scraping templates for each platform\n",
    "    1. lever\n",
    "    2. greenhouse\n",
    "    3. workable\n",
    "    4. breezy\n",
    "    5. recruitee"
   ]
  },
  {
   "cell_type": "code",
   "execution_count": 2,
   "metadata": {},
   "outputs": [],
   "source": [
    "df = pd.read_csv(\"data/name_url_updated.csv\")"
   ]
  },
  {
   "cell_type": "markdown",
   "metadata": {},
   "source": [
    "## 1. Cleaning up df from manual entry/manipulation"
   ]
  },
  {
   "cell_type": "code",
   "execution_count": 3,
   "metadata": {},
   "outputs": [
    {
     "data": {
      "text/html": [
       "<div>\n",
       "<style scoped>\n",
       "    .dataframe tbody tr th:only-of-type {\n",
       "        vertical-align: middle;\n",
       "    }\n",
       "\n",
       "    .dataframe tbody tr th {\n",
       "        vertical-align: top;\n",
       "    }\n",
       "\n",
       "    .dataframe thead th {\n",
       "        text-align: right;\n",
       "    }\n",
       "</style>\n",
       "<table border=\"1\" class=\"dataframe\">\n",
       "  <thead>\n",
       "    <tr style=\"text-align: right;\">\n",
       "      <th></th>\n",
       "      <th>Unnamed: 0</th>\n",
       "      <th>Company</th>\n",
       "      <th>URL</th>\n",
       "      <th>HRTool</th>\n",
       "      <th>OpenPositions-15.05.2021</th>\n",
       "    </tr>\n",
       "  </thead>\n",
       "  <tbody>\n",
       "    <tr>\n",
       "      <th>0</th>\n",
       "      <td>0</td>\n",
       "      <td>Olark</td>\n",
       "      <td>https://www.olark.com/jobs</td>\n",
       "      <td>NaN</td>\n",
       "      <td>No</td>\n",
       "    </tr>\n",
       "    <tr>\n",
       "      <th>1</th>\n",
       "      <td>1</td>\n",
       "      <td>Help Scout</td>\n",
       "      <td>https://jobs.lever.co/helpscout</td>\n",
       "      <td>Lever</td>\n",
       "      <td>NaN</td>\n",
       "    </tr>\n",
       "    <tr>\n",
       "      <th>2</th>\n",
       "      <td>2</td>\n",
       "      <td>Close</td>\n",
       "      <td>https://jobs.lever.co/close.io/</td>\n",
       "      <td>Lever</td>\n",
       "      <td>NaN</td>\n",
       "    </tr>\n",
       "    <tr>\n",
       "      <th>3</th>\n",
       "      <td>3</td>\n",
       "      <td>Prezly</td>\n",
       "      <td>https://careers.prezly.com/</td>\n",
       "      <td>NaN</td>\n",
       "      <td>NaN</td>\n",
       "    </tr>\n",
       "    <tr>\n",
       "      <th>4</th>\n",
       "      <td>4</td>\n",
       "      <td>Skillcrush</td>\n",
       "      <td>https://skillcrush.breezy.hr/</td>\n",
       "      <td>Breezy</td>\n",
       "      <td>NaN</td>\n",
       "    </tr>\n",
       "  </tbody>\n",
       "</table>\n",
       "</div>"
      ],
      "text/plain": [
       "   Unnamed: 0     Company                              URL  HRTool  \\\n",
       "0           0       Olark       https://www.olark.com/jobs     NaN   \n",
       "1           1  Help Scout  https://jobs.lever.co/helpscout   Lever   \n",
       "2           2       Close  https://jobs.lever.co/close.io/   Lever   \n",
       "3           3      Prezly      https://careers.prezly.com/     NaN   \n",
       "4           4  Skillcrush    https://skillcrush.breezy.hr/  Breezy   \n",
       "\n",
       "  OpenPositions-15.05.2021  \n",
       "0                       No  \n",
       "1                      NaN  \n",
       "2                      NaN  \n",
       "3                      NaN  \n",
       "4                      NaN  "
      ]
     },
     "execution_count": 3,
     "metadata": {},
     "output_type": "execute_result"
    }
   ],
   "source": [
    "df.head()"
   ]
  },
  {
   "cell_type": "code",
   "execution_count": 4,
   "metadata": {},
   "outputs": [],
   "source": [
    "df.drop(\"Unnamed: 0\", axis=1, inplace=True)"
   ]
  },
  {
   "cell_type": "code",
   "execution_count": 5,
   "metadata": {},
   "outputs": [
    {
     "data": {
      "text/html": [
       "<div>\n",
       "<style scoped>\n",
       "    .dataframe tbody tr th:only-of-type {\n",
       "        vertical-align: middle;\n",
       "    }\n",
       "\n",
       "    .dataframe tbody tr th {\n",
       "        vertical-align: top;\n",
       "    }\n",
       "\n",
       "    .dataframe thead th {\n",
       "        text-align: right;\n",
       "    }\n",
       "</style>\n",
       "<table border=\"1\" class=\"dataframe\">\n",
       "  <thead>\n",
       "    <tr style=\"text-align: right;\">\n",
       "      <th></th>\n",
       "      <th>Company</th>\n",
       "      <th>URL</th>\n",
       "      <th>HRTool</th>\n",
       "      <th>OpenPositions-15.05.2021</th>\n",
       "    </tr>\n",
       "  </thead>\n",
       "  <tbody>\n",
       "    <tr>\n",
       "      <th>0</th>\n",
       "      <td>Olark</td>\n",
       "      <td>https://www.olark.com/jobs</td>\n",
       "      <td>NaN</td>\n",
       "      <td>No</td>\n",
       "    </tr>\n",
       "    <tr>\n",
       "      <th>1</th>\n",
       "      <td>Help Scout</td>\n",
       "      <td>https://jobs.lever.co/helpscout</td>\n",
       "      <td>Lever</td>\n",
       "      <td>NaN</td>\n",
       "    </tr>\n",
       "    <tr>\n",
       "      <th>2</th>\n",
       "      <td>Close</td>\n",
       "      <td>https://jobs.lever.co/close.io/</td>\n",
       "      <td>Lever</td>\n",
       "      <td>NaN</td>\n",
       "    </tr>\n",
       "    <tr>\n",
       "      <th>3</th>\n",
       "      <td>Prezly</td>\n",
       "      <td>https://careers.prezly.com/</td>\n",
       "      <td>NaN</td>\n",
       "      <td>NaN</td>\n",
       "    </tr>\n",
       "    <tr>\n",
       "      <th>4</th>\n",
       "      <td>Skillcrush</td>\n",
       "      <td>https://skillcrush.breezy.hr/</td>\n",
       "      <td>Breezy</td>\n",
       "      <td>NaN</td>\n",
       "    </tr>\n",
       "  </tbody>\n",
       "</table>\n",
       "</div>"
      ],
      "text/plain": [
       "      Company                              URL  HRTool  \\\n",
       "0       Olark       https://www.olark.com/jobs     NaN   \n",
       "1  Help Scout  https://jobs.lever.co/helpscout   Lever   \n",
       "2       Close  https://jobs.lever.co/close.io/   Lever   \n",
       "3      Prezly      https://careers.prezly.com/     NaN   \n",
       "4  Skillcrush    https://skillcrush.breezy.hr/  Breezy   \n",
       "\n",
       "  OpenPositions-15.05.2021  \n",
       "0                       No  \n",
       "1                      NaN  \n",
       "2                      NaN  \n",
       "3                      NaN  \n",
       "4                      NaN  "
      ]
     },
     "execution_count": 5,
     "metadata": {},
     "output_type": "execute_result"
    }
   ],
   "source": [
    "df.head()"
   ]
  },
  {
   "cell_type": "code",
   "execution_count": 6,
   "metadata": {},
   "outputs": [
    {
     "data": {
      "text/plain": [
       "97"
      ]
     },
     "execution_count": 6,
     "metadata": {},
     "output_type": "execute_result"
    }
   ],
   "source": [
    "len(df)"
   ]
  },
  {
   "cell_type": "code",
   "execution_count": 7,
   "metadata": {},
   "outputs": [
    {
     "data": {
      "text/plain": [
       "Company                     97\n",
       "URL                         95\n",
       "HRTool                       5\n",
       "OpenPositions-15.05.2021     1\n",
       "dtype: int64"
      ]
     },
     "execution_count": 7,
     "metadata": {},
     "output_type": "execute_result"
    }
   ],
   "source": [
    "#all company names are unique but not all urls - must investigate\n",
    "df.nunique()"
   ]
  },
  {
   "cell_type": "code",
   "execution_count": 8,
   "metadata": {},
   "outputs": [
    {
     "data": {
      "text/html": [
       "<div>\n",
       "<style scoped>\n",
       "    .dataframe tbody tr th:only-of-type {\n",
       "        vertical-align: middle;\n",
       "    }\n",
       "\n",
       "    .dataframe tbody tr th {\n",
       "        vertical-align: top;\n",
       "    }\n",
       "\n",
       "    .dataframe thead th {\n",
       "        text-align: right;\n",
       "    }\n",
       "</style>\n",
       "<table border=\"1\" class=\"dataframe\">\n",
       "  <thead>\n",
       "    <tr style=\"text-align: right;\">\n",
       "      <th></th>\n",
       "      <th>Company</th>\n",
       "      <th>URL</th>\n",
       "      <th>HRTool</th>\n",
       "      <th>OpenPositions-15.05.2021</th>\n",
       "    </tr>\n",
       "  </thead>\n",
       "  <tbody>\n",
       "    <tr>\n",
       "      <th>80</th>\n",
       "      <td>Close.io</td>\n",
       "      <td>https://jobs.lever.co/close.io/</td>\n",
       "      <td>Lever</td>\n",
       "      <td>NaN</td>\n",
       "    </tr>\n",
       "    <tr>\n",
       "      <th>91</th>\n",
       "      <td>On The Go Systems</td>\n",
       "      <td>https://www.onthegosystems.com/jobs/</td>\n",
       "      <td>NaN</td>\n",
       "      <td>No</td>\n",
       "    </tr>\n",
       "  </tbody>\n",
       "</table>\n",
       "</div>"
      ],
      "text/plain": [
       "              Company                                   URL HRTool  \\\n",
       "80           Close.io       https://jobs.lever.co/close.io/  Lever   \n",
       "91  On The Go Systems  https://www.onthegosystems.com/jobs/    NaN   \n",
       "\n",
       "   OpenPositions-15.05.2021  \n",
       "80                      NaN  \n",
       "91                       No  "
      ]
     },
     "execution_count": 8,
     "metadata": {},
     "output_type": "execute_result"
    }
   ],
   "source": [
    "df.loc[df[\"URL\"].duplicated()]"
   ]
  },
  {
   "cell_type": "code",
   "execution_count": 9,
   "metadata": {},
   "outputs": [
    {
     "data": {
      "text/html": [
       "<div>\n",
       "<style scoped>\n",
       "    .dataframe tbody tr th:only-of-type {\n",
       "        vertical-align: middle;\n",
       "    }\n",
       "\n",
       "    .dataframe tbody tr th {\n",
       "        vertical-align: top;\n",
       "    }\n",
       "\n",
       "    .dataframe thead th {\n",
       "        text-align: right;\n",
       "    }\n",
       "</style>\n",
       "<table border=\"1\" class=\"dataframe\">\n",
       "  <thead>\n",
       "    <tr style=\"text-align: right;\">\n",
       "      <th></th>\n",
       "      <th>Company</th>\n",
       "      <th>URL</th>\n",
       "      <th>HRTool</th>\n",
       "      <th>OpenPositions-15.05.2021</th>\n",
       "    </tr>\n",
       "  </thead>\n",
       "  <tbody>\n",
       "    <tr>\n",
       "      <th>2</th>\n",
       "      <td>Close</td>\n",
       "      <td>https://jobs.lever.co/close.io/</td>\n",
       "      <td>Lever</td>\n",
       "      <td>NaN</td>\n",
       "    </tr>\n",
       "    <tr>\n",
       "      <th>80</th>\n",
       "      <td>Close.io</td>\n",
       "      <td>https://jobs.lever.co/close.io/</td>\n",
       "      <td>Lever</td>\n",
       "      <td>NaN</td>\n",
       "    </tr>\n",
       "  </tbody>\n",
       "</table>\n",
       "</div>"
      ],
      "text/plain": [
       "     Company                              URL HRTool OpenPositions-15.05.2021\n",
       "2      Close  https://jobs.lever.co/close.io/  Lever                      NaN\n",
       "80  Close.io  https://jobs.lever.co/close.io/  Lever                      NaN"
      ]
     },
     "execution_count": 9,
     "metadata": {},
     "output_type": "execute_result"
    }
   ],
   "source": [
    "df.loc[df[\"URL\"] == \"https://jobs.lever.co/close.io/\"]"
   ]
  },
  {
   "cell_type": "code",
   "execution_count": 10,
   "metadata": {},
   "outputs": [
    {
     "data": {
      "text/html": [
       "<div>\n",
       "<style scoped>\n",
       "    .dataframe tbody tr th:only-of-type {\n",
       "        vertical-align: middle;\n",
       "    }\n",
       "\n",
       "    .dataframe tbody tr th {\n",
       "        vertical-align: top;\n",
       "    }\n",
       "\n",
       "    .dataframe thead th {\n",
       "        text-align: right;\n",
       "    }\n",
       "</style>\n",
       "<table border=\"1\" class=\"dataframe\">\n",
       "  <thead>\n",
       "    <tr style=\"text-align: right;\">\n",
       "      <th></th>\n",
       "      <th>Company</th>\n",
       "      <th>URL</th>\n",
       "      <th>HRTool</th>\n",
       "      <th>OpenPositions-15.05.2021</th>\n",
       "    </tr>\n",
       "  </thead>\n",
       "  <tbody>\n",
       "    <tr>\n",
       "      <th>60</th>\n",
       "      <td>OnTheGoSystems</td>\n",
       "      <td>https://www.onthegosystems.com/jobs/</td>\n",
       "      <td>NaN</td>\n",
       "      <td>No</td>\n",
       "    </tr>\n",
       "    <tr>\n",
       "      <th>91</th>\n",
       "      <td>On The Go Systems</td>\n",
       "      <td>https://www.onthegosystems.com/jobs/</td>\n",
       "      <td>NaN</td>\n",
       "      <td>No</td>\n",
       "    </tr>\n",
       "  </tbody>\n",
       "</table>\n",
       "</div>"
      ],
      "text/plain": [
       "              Company                                   URL HRTool  \\\n",
       "60     OnTheGoSystems  https://www.onthegosystems.com/jobs/    NaN   \n",
       "91  On The Go Systems  https://www.onthegosystems.com/jobs/    NaN   \n",
       "\n",
       "   OpenPositions-15.05.2021  \n",
       "60                       No  \n",
       "91                       No  "
      ]
     },
     "execution_count": 10,
     "metadata": {},
     "output_type": "execute_result"
    }
   ],
   "source": [
    "df.loc[df[\"URL\"] == \"https://www.onthegosystems.com/jobs/\"]"
   ]
  },
  {
   "cell_type": "markdown",
   "metadata": {},
   "source": [
    "**Will de-dupe these rows - there was just a difference in naming conventions when I mered the company lists from the two different websites**\n",
    "I prefer the last of both of these duplicates, since Close.io gives more information, and On The Go Systems with spaces is sticking to the spacing convention of other companies in the list"
   ]
  },
  {
   "cell_type": "code",
   "execution_count": 11,
   "metadata": {},
   "outputs": [],
   "source": [
    "df.drop_duplicates(subset=\"URL\", keep=\"last\", inplace=True)"
   ]
  },
  {
   "cell_type": "markdown",
   "metadata": {},
   "source": [
    "## 2. Create sf subsets with only specifc HRTools"
   ]
  },
  {
   "cell_type": "code",
   "execution_count": 12,
   "metadata": {},
   "outputs": [
    {
     "data": {
      "text/plain": [
       "Lever         10\n",
       "Greenhouse    10\n",
       "Workable       7\n",
       "Breezy         6\n",
       "Recruitee      4\n",
       "Name: HRTool, dtype: int64"
      ]
     },
     "execution_count": 12,
     "metadata": {},
     "output_type": "execute_result"
    }
   ],
   "source": [
    "df[\"HRTool\"].value_counts()"
   ]
  },
  {
   "cell_type": "code",
   "execution_count": 13,
   "metadata": {},
   "outputs": [],
   "source": [
    "lever = df.loc[df[\"HRTool\"] == \"Lever\"].copy().reset_index(drop=True)"
   ]
  },
  {
   "cell_type": "code",
   "execution_count": 14,
   "metadata": {},
   "outputs": [],
   "source": [
    "greenhouse = df.loc[df[\"HRTool\"] == \"Greenhouse\"].copy().reset_index(drop=True)"
   ]
  },
  {
   "cell_type": "code",
   "execution_count": 15,
   "metadata": {},
   "outputs": [],
   "source": [
    "workable = df.loc[df[\"HRTool\"] == \"Workable\"].copy().reset_index(drop=True)"
   ]
  },
  {
   "cell_type": "code",
   "execution_count": 16,
   "metadata": {},
   "outputs": [],
   "source": [
    "breezy = df.loc[df[\"HRTool\"] == \"Breezy\"].copy().reset_index(drop=True)"
   ]
  },
  {
   "cell_type": "code",
   "execution_count": 17,
   "metadata": {},
   "outputs": [],
   "source": [
    "recruitee = df.loc[df[\"HRTool\"] == \"Recruitee\"].copy().reset_index(drop=True)"
   ]
  },
  {
   "cell_type": "markdown",
   "metadata": {},
   "source": [
    "## 3. Scraping Template\n",
    "Goal Table Information\n",
    "\n",
    "| Company Name | Job Title | Location (if avail) | Department | URL |\n",
    "|--------------|-----------|---------------------|------------|-----|\n",
    "| Help Scout | Data Analyst | Remote | Data Team | www.jobpostinghere.com |\n"
   ]
  },
  {
   "cell_type": "markdown",
   "metadata": {},
   "source": [
    "### A. Lever"
   ]
  },
  {
   "cell_type": "code",
   "execution_count": 124,
   "metadata": {},
   "outputs": [
    {
     "data": {
      "text/html": [
       "<div>\n",
       "<style scoped>\n",
       "    .dataframe tbody tr th:only-of-type {\n",
       "        vertical-align: middle;\n",
       "    }\n",
       "\n",
       "    .dataframe tbody tr th {\n",
       "        vertical-align: top;\n",
       "    }\n",
       "\n",
       "    .dataframe thead th {\n",
       "        text-align: right;\n",
       "    }\n",
       "</style>\n",
       "<table border=\"1\" class=\"dataframe\">\n",
       "  <thead>\n",
       "    <tr style=\"text-align: right;\">\n",
       "      <th></th>\n",
       "      <th>Company</th>\n",
       "      <th>URL</th>\n",
       "      <th>HRTool</th>\n",
       "      <th>OpenPositions-15.05.2021</th>\n",
       "    </tr>\n",
       "  </thead>\n",
       "  <tbody>\n",
       "    <tr>\n",
       "      <th>0</th>\n",
       "      <td>Help Scout</td>\n",
       "      <td>https://jobs.lever.co/helpscout</td>\n",
       "      <td>Lever</td>\n",
       "      <td>NaN</td>\n",
       "    </tr>\n",
       "    <tr>\n",
       "      <th>1</th>\n",
       "      <td>Articulate</td>\n",
       "      <td>https://jobs.lever.co/articulate</td>\n",
       "      <td>Lever</td>\n",
       "      <td>NaN</td>\n",
       "    </tr>\n",
       "    <tr>\n",
       "      <th>2</th>\n",
       "      <td>MangoLanguages</td>\n",
       "      <td>https://jobs.lever.co/mangolanguage/</td>\n",
       "      <td>Lever</td>\n",
       "      <td>NaN</td>\n",
       "    </tr>\n",
       "    <tr>\n",
       "      <th>3</th>\n",
       "      <td>Guilded</td>\n",
       "      <td>https://jobs.lever.co/guilded/</td>\n",
       "      <td>Lever</td>\n",
       "      <td>NaN</td>\n",
       "    </tr>\n",
       "    <tr>\n",
       "      <th>4</th>\n",
       "      <td>Buildkite</td>\n",
       "      <td>https://jobs.lever.co/Buildkite/</td>\n",
       "      <td>Lever</td>\n",
       "      <td>NaN</td>\n",
       "    </tr>\n",
       "  </tbody>\n",
       "</table>\n",
       "</div>"
      ],
      "text/plain": [
       "          Company                                   URL HRTool  \\\n",
       "0      Help Scout       https://jobs.lever.co/helpscout  Lever   \n",
       "1      Articulate      https://jobs.lever.co/articulate  Lever   \n",
       "2  MangoLanguages  https://jobs.lever.co/mangolanguage/  Lever   \n",
       "3         Guilded        https://jobs.lever.co/guilded/  Lever   \n",
       "4       Buildkite      https://jobs.lever.co/Buildkite/  Lever   \n",
       "\n",
       "  OpenPositions-15.05.2021  \n",
       "0                      NaN  \n",
       "1                      NaN  \n",
       "2                      NaN  \n",
       "3                      NaN  \n",
       "4                      NaN  "
      ]
     },
     "execution_count": 124,
     "metadata": {},
     "output_type": "execute_result"
    }
   ],
   "source": [
    "lever.head()"
   ]
  },
  {
   "cell_type": "code",
   "execution_count": 133,
   "metadata": {},
   "outputs": [],
   "source": [
    "url_lever = lever[\"URL\"][0]"
   ]
  },
  {
   "cell_type": "code",
   "execution_count": 134,
   "metadata": {},
   "outputs": [],
   "source": [
    "response_lever = requests.get(url_lever)\n",
    "soup_lever = bs4.BeautifulSoup(response_lever.content, \"html.parser\")"
   ]
  },
  {
   "cell_type": "markdown",
   "metadata": {},
   "source": [
    "**Get Job Title, Loc, Dept**"
   ]
  },
  {
   "cell_type": "code",
   "execution_count": 136,
   "metadata": {},
   "outputs": [
    {
     "data": {
      "text/plain": [
       "[<a class=\"posting-title\" href=\"https://jobs.lever.co/helpscout/b63c26a3-9b78-4293-bac8-8f6b7149a130\"><h5 data-qa=\"posting-name\">Director of Brand</h5><div class=\"posting-categories\"><span class=\"sort-by-location posting-category small-category-label\" href=\"#\">Remote</span><span class=\"sort-by-team posting-category small-category-label\" href=\"#\">Brand</span></div></a>,\n",
       " <a class=\"posting-title\" href=\"https://jobs.lever.co/helpscout/b1200570-fbee-4a97-8210-0a290f1f25c3\"><h5 data-qa=\"posting-name\">Ops Engineer</h5><div class=\"posting-categories\"><span class=\"sort-by-location posting-category small-category-label\" href=\"#\">Remote</span><span class=\"sort-by-team posting-category small-category-label\" href=\"#\">Engineering</span></div></a>,\n",
       " <a class=\"posting-title\" href=\"https://jobs.lever.co/helpscout/18a5f09e-37d7-458c-b292-8ecc0e090c62\"><h5 data-qa=\"posting-name\">Senior Java Engineer</h5><div class=\"posting-categories\"><span class=\"sort-by-location posting-category small-category-label\" href=\"#\">Remote</span><span class=\"sort-by-team posting-category small-category-label\" href=\"#\">Engineering</span></div></a>,\n",
       " <a class=\"posting-title\" href=\"https://jobs.lever.co/helpscout/5371bb13-a068-4d33-879e-6fe0badd6372\"><h5 data-qa=\"posting-name\">Senior JavaScript Engineer</h5><div class=\"posting-categories\"><span class=\"sort-by-location posting-category small-category-label\" href=\"#\">Remote</span><span class=\"sort-by-team posting-category small-category-label\" href=\"#\">Engineering</span></div></a>,\n",
       " <a class=\"posting-title\" href=\"https://jobs.lever.co/helpscout/54a68d5c-6ffd-4873-a7a8-3a9a37a65a4c\"><h5 data-qa=\"posting-name\">Future Openings at Help Scout</h5><div class=\"posting-categories\"><span class=\"sort-by-location posting-category small-category-label\" href=\"#\">Remote</span><span class=\"sort-by-team posting-category small-category-label\" href=\"#\">Future Openings</span></div></a>,\n",
       " <a class=\"posting-title\" href=\"https://jobs.lever.co/helpscout/8f17211d-1673-4311-8745-fa302618127b\"><h5 data-qa=\"posting-name\">Content Writer</h5><div class=\"posting-categories\"><span class=\"sort-by-location posting-category small-category-label\" href=\"#\">Remote</span><span class=\"sort-by-team posting-category small-category-label\" href=\"#\">Marketing</span></div></a>,\n",
       " <a class=\"posting-title\" href=\"https://jobs.lever.co/helpscout/5b317a4a-5138-4dba-b7f3-27774b878760\"><h5 data-qa=\"posting-name\">Front-end Developer</h5><div class=\"posting-categories\"><span class=\"sort-by-location posting-category small-category-label\" href=\"#\">Remote</span><span class=\"sort-by-team posting-category small-category-label\" href=\"#\">Marketing</span></div></a>,\n",
       " <a class=\"posting-title\" href=\"https://jobs.lever.co/helpscout/1925c5e8-6790-4baa-b84b-0788f109816b\"><h5 data-qa=\"posting-name\">Sales Manager, Business Development Representatives</h5><div class=\"posting-categories\"><span class=\"sort-by-location posting-category small-category-label\" href=\"#\">Remote</span><span class=\"sort-by-team posting-category small-category-label\" href=\"#\">Sales</span></div></a>,\n",
       " <a class=\"posting-title\" href=\"https://jobs.lever.co/helpscout/da2812fc-a893-45ba-9cba-18283cd6349d\"><h5 data-qa=\"posting-name\">Technical Support Specialist (formerly Customer Champion)</h5><div class=\"posting-categories\"><span class=\"sort-by-location posting-category small-category-label\" href=\"#\">Remote</span><span class=\"sort-by-team posting-category small-category-label\" href=\"#\">Support</span></div></a>]"
      ]
     },
     "execution_count": 136,
     "metadata": {},
     "output_type": "execute_result"
    }
   ],
   "source": [
    "soup_lever.find_all(\"a\", {\"class\": \"posting-title\"})"
   ]
  },
  {
   "cell_type": "code",
   "execution_count": 135,
   "metadata": {},
   "outputs": [
    {
     "data": {
      "text/plain": [
       "9"
      ]
     },
     "execution_count": 135,
     "metadata": {},
     "output_type": "execute_result"
    }
   ],
   "source": [
    "#confirming capture of all listings on \n",
    "len(soup_lever.find_all(\"a\", {\"class\": \"posting-title\"}))"
   ]
  },
  {
   "cell_type": "code",
   "execution_count": 137,
   "metadata": {},
   "outputs": [
    {
     "name": "stdout",
     "output_type": "stream",
     "text": [
      "Director of Brand<h5>Remote<h5>Brand\n",
      "Ops Engineer<h5>Remote<h5>Engineering\n",
      "Senior Java Engineer<h5>Remote<h5>Engineering\n",
      "Senior JavaScript Engineer<h5>Remote<h5>Engineering\n",
      "Future Openings at Help Scout<h5>Remote<h5>Future Openings\n",
      "Content Writer<h5>Remote<h5>Marketing\n",
      "Front-end Developer<h5>Remote<h5>Marketing\n",
      "Sales Manager, Business Development Representatives<h5>Remote<h5>Sales\n",
      "Technical Support Specialist (formerly Customer Champion)<h5>Remote<h5>Support\n"
     ]
    }
   ],
   "source": [
    "for x in soup_lever.find_all(\"a\", {\"class\": \"posting-title\"}):\n",
    "    print((x.get_text(\"<h5>\")))"
   ]
  },
  {
   "cell_type": "markdown",
   "metadata": {},
   "source": [
    "**Get URL**"
   ]
  },
  {
   "cell_type": "code",
   "execution_count": 138,
   "metadata": {
    "scrolled": true
   },
   "outputs": [
    {
     "name": "stdout",
     "output_type": "stream",
     "text": [
      "https://jobs.lever.co/helpscout/b63c26a3-9b78-4293-bac8-8f6b7149a130\n",
      "https://jobs.lever.co/helpscout/b1200570-fbee-4a97-8210-0a290f1f25c3\n",
      "https://jobs.lever.co/helpscout/18a5f09e-37d7-458c-b292-8ecc0e090c62\n",
      "https://jobs.lever.co/helpscout/5371bb13-a068-4d33-879e-6fe0badd6372\n",
      "https://jobs.lever.co/helpscout/54a68d5c-6ffd-4873-a7a8-3a9a37a65a4c\n",
      "https://jobs.lever.co/helpscout/8f17211d-1673-4311-8745-fa302618127b\n",
      "https://jobs.lever.co/helpscout/5b317a4a-5138-4dba-b7f3-27774b878760\n",
      "https://jobs.lever.co/helpscout/1925c5e8-6790-4baa-b84b-0788f109816b\n",
      "https://jobs.lever.co/helpscout/da2812fc-a893-45ba-9cba-18283cd6349d\n"
     ]
    }
   ],
   "source": [
    "for x in soup_lever.find_all(\"a\", {\"class\": \"posting-title\"}):\n",
    "    print(x.get(\"href\"))"
   ]
  },
  {
   "cell_type": "markdown",
   "metadata": {},
   "source": [
    "**Combining details and URL into list**"
   ]
  },
  {
   "cell_type": "code",
   "execution_count": 139,
   "metadata": {},
   "outputs": [],
   "source": [
    "list_jobs_all = []\n",
    "for x in soup_lever.find_all(\"a\", {\"class\": \"posting-title\"}):\n",
    "    list_job_details = (x.get_text(\"<h5>\")).split(\"<h5>\")\n",
    "    list_job_details.append(x.get(\"href\"))\n",
    "    list_jobs_all.append(list_job_details)"
   ]
  },
  {
   "cell_type": "code",
   "execution_count": 140,
   "metadata": {},
   "outputs": [
    {
     "data": {
      "text/plain": [
       "[['Director of Brand',\n",
       "  'Remote',\n",
       "  'Brand',\n",
       "  'https://jobs.lever.co/helpscout/b63c26a3-9b78-4293-bac8-8f6b7149a130'],\n",
       " ['Ops Engineer',\n",
       "  'Remote',\n",
       "  'Engineering',\n",
       "  'https://jobs.lever.co/helpscout/b1200570-fbee-4a97-8210-0a290f1f25c3'],\n",
       " ['Senior Java Engineer',\n",
       "  'Remote',\n",
       "  'Engineering',\n",
       "  'https://jobs.lever.co/helpscout/18a5f09e-37d7-458c-b292-8ecc0e090c62'],\n",
       " ['Senior JavaScript Engineer',\n",
       "  'Remote',\n",
       "  'Engineering',\n",
       "  'https://jobs.lever.co/helpscout/5371bb13-a068-4d33-879e-6fe0badd6372'],\n",
       " ['Future Openings at Help Scout',\n",
       "  'Remote',\n",
       "  'Future Openings',\n",
       "  'https://jobs.lever.co/helpscout/54a68d5c-6ffd-4873-a7a8-3a9a37a65a4c'],\n",
       " ['Content Writer',\n",
       "  'Remote',\n",
       "  'Marketing',\n",
       "  'https://jobs.lever.co/helpscout/8f17211d-1673-4311-8745-fa302618127b'],\n",
       " ['Front-end Developer',\n",
       "  'Remote',\n",
       "  'Marketing',\n",
       "  'https://jobs.lever.co/helpscout/5b317a4a-5138-4dba-b7f3-27774b878760'],\n",
       " ['Sales Manager, Business Development Representatives',\n",
       "  'Remote',\n",
       "  'Sales',\n",
       "  'https://jobs.lever.co/helpscout/1925c5e8-6790-4baa-b84b-0788f109816b'],\n",
       " ['Technical Support Specialist (formerly Customer Champion)',\n",
       "  'Remote',\n",
       "  'Support',\n",
       "  'https://jobs.lever.co/helpscout/da2812fc-a893-45ba-9cba-18283cd6349d']]"
      ]
     },
     "execution_count": 140,
     "metadata": {},
     "output_type": "execute_result"
    }
   ],
   "source": [
    "list_jobs_all"
   ]
  },
  {
   "cell_type": "markdown",
   "metadata": {},
   "source": [
    "**Success!! Will trasnform into functions/class once I have fleshed out my pipeline**"
   ]
  },
  {
   "cell_type": "markdown",
   "metadata": {},
   "source": [
    "### B. Greenhouse"
   ]
  },
  {
   "cell_type": "code",
   "execution_count": 161,
   "metadata": {},
   "outputs": [
    {
     "data": {
      "text/html": [
       "<div>\n",
       "<style scoped>\n",
       "    .dataframe tbody tr th:only-of-type {\n",
       "        vertical-align: middle;\n",
       "    }\n",
       "\n",
       "    .dataframe tbody tr th {\n",
       "        vertical-align: top;\n",
       "    }\n",
       "\n",
       "    .dataframe thead th {\n",
       "        text-align: right;\n",
       "    }\n",
       "</style>\n",
       "<table border=\"1\" class=\"dataframe\">\n",
       "  <thead>\n",
       "    <tr style=\"text-align: right;\">\n",
       "      <th></th>\n",
       "      <th>Company</th>\n",
       "      <th>URL</th>\n",
       "      <th>HRTool</th>\n",
       "      <th>OpenPositions-15.05.2021</th>\n",
       "    </tr>\n",
       "  </thead>\n",
       "  <tbody>\n",
       "    <tr>\n",
       "      <th>0</th>\n",
       "      <td>Xapo</td>\n",
       "      <td>https://boards.greenhouse.io/xapo61/</td>\n",
       "      <td>Greenhouse</td>\n",
       "      <td>NaN</td>\n",
       "    </tr>\n",
       "    <tr>\n",
       "      <th>1</th>\n",
       "      <td>Blockchain</td>\n",
       "      <td>https://boards.greenhouse.io/blockchain</td>\n",
       "      <td>Greenhouse</td>\n",
       "      <td>NaN</td>\n",
       "    </tr>\n",
       "    <tr>\n",
       "      <th>2</th>\n",
       "      <td>Collage</td>\n",
       "      <td>https://boards.greenhouse.io/collagecom/</td>\n",
       "      <td>Greenhouse</td>\n",
       "      <td>NaN</td>\n",
       "    </tr>\n",
       "    <tr>\n",
       "      <th>3</th>\n",
       "      <td>GitLab</td>\n",
       "      <td>https://boards.greenhouse.io/gitlab</td>\n",
       "      <td>Greenhouse</td>\n",
       "      <td>NaN</td>\n",
       "    </tr>\n",
       "    <tr>\n",
       "      <th>4</th>\n",
       "      <td>Sourcegraph</td>\n",
       "      <td>https://boards.greenhouse.io/sourcegraph91</td>\n",
       "      <td>Greenhouse</td>\n",
       "      <td>NaN</td>\n",
       "    </tr>\n",
       "  </tbody>\n",
       "</table>\n",
       "</div>"
      ],
      "text/plain": [
       "       Company                                         URL      HRTool  \\\n",
       "0         Xapo        https://boards.greenhouse.io/xapo61/  Greenhouse   \n",
       "1   Blockchain     https://boards.greenhouse.io/blockchain  Greenhouse   \n",
       "2      Collage    https://boards.greenhouse.io/collagecom/  Greenhouse   \n",
       "3       GitLab         https://boards.greenhouse.io/gitlab  Greenhouse   \n",
       "4  Sourcegraph  https://boards.greenhouse.io/sourcegraph91  Greenhouse   \n",
       "\n",
       "  OpenPositions-15.05.2021  \n",
       "0                      NaN  \n",
       "1                      NaN  \n",
       "2                      NaN  \n",
       "3                      NaN  \n",
       "4                      NaN  "
      ]
     },
     "execution_count": 161,
     "metadata": {},
     "output_type": "execute_result"
    }
   ],
   "source": [
    "greenhouse.head()"
   ]
  },
  {
   "cell_type": "code",
   "execution_count": 219,
   "metadata": {},
   "outputs": [],
   "source": [
    "url_greenhouse = greenhouse[\"URL\"][0]"
   ]
  },
  {
   "cell_type": "code",
   "execution_count": 220,
   "metadata": {},
   "outputs": [],
   "source": [
    "response_greenhouse = requests.get(url_greenhouse)\n",
    "soup_greenhouse = bs4.BeautifulSoup(response_greenhouse.content, \"html.parser\")"
   ]
  },
  {
   "cell_type": "code",
   "execution_count": 221,
   "metadata": {},
   "outputs": [
    {
     "data": {
      "text/plain": [
       "<!DOCTYPE html>\n",
       "\n",
       "<html lang=\"en\">\n",
       "<head prefix=\"og: http://ogp.me/ns#\">\n",
       "<title>Jobs at Xapo</title>\n",
       "<meta content=\"IE=edge,chrome=1\" http-equiv=\"X-UA-Compatible\"/>\n",
       "<meta content=\"width=device-width, minimum-scale=1.0\" id=\"viewport\" name=\"viewport\">\n",
       "<meta content=\"jben\" id=\"rendered-by\"/>\n",
       "<link href=\"https://boards.cdn.greenhouse.io/assets/application-0b83f797e71a267c31193781fff2814dfb78746f800ca278a81be45c6664afeb.css\" media=\"all\" rel=\"stylesheet\"/>\n",
       "<link href=\"https://boards.cdn.greenhouse.io/assets/responsive-9bc84e316c0e62c281f938d9a4217ce6017c348b675e254d1a3c8c82f2d88f9b.css\" media=\"all\" rel=\"stylesheet\"/>\n",
       "<meta content=\"Xapo\" property=\"og:title\"/>\n",
       "<meta content=\"Xapo is an international fintech startup on a mission to protect and grow its clients’ life savings.\n",
       "We’re a fully distributed team that works remotely from 50+ countries around the world. We may come from many different cultures and backgrounds, but it’s our values, our resourcefulness, and our drive that makes us Xapiens.\n",
       "We work hard, think globally, and inspire each other to grow every day. If you’re the best at what you do and share our passion, we want you.\n",
       "Join us, wherever you are, and help us build a digital bank worthy of the digital age at Xapo.\n",
       " \" property=\"og:description\"/>\n",
       "<meta content=\"https://boards.greenhouse.io/xapo61\" property=\"og:url\"/>\n",
       "<meta content=\"article\" property=\"og:type\"/>\n",
       "<meta content=\"https://s3-recruiting.cdn.greenhouse.io/external_greenhouse_job_boards/logos/400/530/000/original/Logo_Size.jpg?1619692552\" property=\"og:image\"/>\n",
       "</meta></head>\n",
       "<body>\n",
       "<div id=\"wrapper\">\n",
       "<div class=\"accessible\" id=\"main\">\n",
       "<div id=\"flash_wrapper\">\n",
       "</div>\n",
       "<div id=\"logo\"><a href=\"https://www.xapo.com/\" target=\"_blank\"><img alt=\"Xapo Logo\" height=\"75\" src=\"https://s3-recruiting.cdn.greenhouse.io/external_greenhouse_job_boards/logos/400/530/000/resized/Logo_Size.jpg?1619692552\" width=\"113\"/></a></div>\n",
       "<h1>Xapo</h1>\n",
       "<div id=\"content\">\n",
       "<p>Xapo is an international fintech startup on a mission to protect and grow its clients’ life savings.</p>\n",
       "<p>We’re a fully distributed team that works remotely from 50+ countries around the world. We may come from many different cultures and backgrounds, but it’s our values, our resourcefulness, and our drive that makes us Xapiens.</p>\n",
       "<p>We work hard, think globally, and inspire each other to grow every day. If you’re the best at what you do and share our passion, we want you.</p>\n",
       "<p>Join us, wherever you are, and help us build a digital bank worthy of the digital age at Xapo.</p>\n",
       "<p> </p>\n",
       "</div>\n",
       "<h2 id=\"board_title\">Current Job Openings</h2>\n",
       "<h3 id=\"filter-count\"></h3>\n",
       "<section class=\"level-0\">\n",
       "<h3 id=\"4028838003\">Compliance</h3>\n",
       "<div class=\"opening\" data-department-4028838003=\"true\" data-office-4019860003=\"true\" department_id=\"4028838003\" office_id=\"4019860003\">\n",
       "<a data-mapped=\"true\" href=\"/xapo61/jobs/4487792003\">Anti-Financial Crime Operations and Quality Assurance Manager</a>\n",
       "<br/>\n",
       "<span class=\"location\">Remote - Anywhere</span>\n",
       "</div>\n",
       "</section>\n",
       "<section class=\"level-0\">\n",
       "<h3 id=\"4027998003\">Engineering</h3>\n",
       "<div class=\"opening\" data-department-4027998003=\"true\" data-office-4019860003=\"true\" department_id=\"4027998003\" office_id=\"4019860003\">\n",
       "<a data-mapped=\"true\" href=\"/xapo61/jobs/4409203003\">Backend Developer Lead (Remote - Work from Anywhere)</a>\n",
       "<br/>\n",
       "<span class=\"location\">Remote - Anywhere</span>\n",
       "</div><div class=\"opening\" data-department-4027998003=\"true\" data-office-4019860003=\"true\" department_id=\"4027998003\" office_id=\"4019860003\">\n",
       "<a data-mapped=\"true\" href=\"/xapo61/jobs/4433247003\">Backend Developer Lead (Remote - Work from Anywhere)</a>\n",
       "<br/>\n",
       "<span class=\"location\">Remote - Anywhere</span>\n",
       "</div><div class=\"opening\" data-department-4027998003=\"true\" data-office-4019860003=\"true\" department_id=\"4027998003\" office_id=\"4019860003\">\n",
       "<a data-mapped=\"true\" href=\"/xapo61/jobs/4398685003\">Director of Engineering (Remote - Work from Anywhere)</a>\n",
       "<br/>\n",
       "<span class=\"location\">Remote - Anywhere</span>\n",
       "</div><div class=\"opening\" data-department-4027998003=\"true\" data-office-4019860003=\"true\" department_id=\"4027998003\" office_id=\"4019860003\">\n",
       "<a data-mapped=\"true\" href=\"/xapo61/jobs/4423692003\">Front-End Web Developer (Remote - Work from Anywhere)</a>\n",
       "<br/>\n",
       "<span class=\"location\">Remote - Anywhere</span>\n",
       "</div><div class=\"opening\" data-department-4027998003=\"true\" data-office-4019860003=\"true\" department_id=\"4027998003\" office_id=\"4019860003\">\n",
       "<a data-mapped=\"true\" href=\"/xapo61/jobs/4398679003\">Head of Platform Engineering (Remote - Work from Anywhere)</a>\n",
       "<br/>\n",
       "<span class=\"location\">Remote - Anywhere</span>\n",
       "</div><div class=\"opening\" data-department-4027998003=\"true\" data-office-4019860003=\"true\" department_id=\"4027998003\" office_id=\"4019860003\">\n",
       "<a data-mapped=\"true\" href=\"/xapo61/jobs/4433105003\">Head of QA (Remote - Work from Anywhere)</a>\n",
       "<br/>\n",
       "<span class=\"location\">Remote - Anywhere</span>\n",
       "</div><div class=\"opening\" data-department-4027998003=\"true\" data-office-4019860003=\"true\" department_id=\"4027998003\" office_id=\"4019860003\">\n",
       "<a data-mapped=\"true\" href=\"/xapo61/jobs/4433231003\">Platform Engineer (Remote - Work from Anywhere)</a>\n",
       "<br/>\n",
       "<span class=\"location\">Remote - Anywhere</span>\n",
       "</div><div class=\"opening\" data-department-4027998003=\"true\" data-office-4019860003=\"true\" department_id=\"4027998003\" office_id=\"4019860003\">\n",
       "<a data-mapped=\"true\" href=\"/xapo61/jobs/4436980003\">Senior Backend Developer (Remote - Work from Anywhere)</a>\n",
       "<br/>\n",
       "<span class=\"location\">Remote - Anywhere</span>\n",
       "</div><div class=\"opening\" data-department-4027998003=\"true\" data-office-4019860003=\"true\" department_id=\"4027998003\" office_id=\"4019860003\">\n",
       "<a data-mapped=\"true\" href=\"/xapo61/jobs/4432985003\">SRE/DevOps Engineer (Remote - Work from Anywhere)</a>\n",
       "<br/>\n",
       "<span class=\"location\">Remote - Anywhere</span>\n",
       "</div>\n",
       "<section class=\"child level-1\">\n",
       "<h4 id=\"4028003003\">Data</h4>\n",
       "<div class=\"opening\" data-department-4027998003=\"true\" data-department-4028003003=\"true\" data-office-4019860003=\"true\" department_id=\"4027998003,4028003003\" office_id=\"4019860003\">\n",
       "<a data-mapped=\"true\" href=\"/xapo61/jobs/4324078003\">Product Insights &amp; Analytics (Remote - Work from Anywhere)</a>\n",
       "<br/>\n",
       "<span class=\"location\">Remote - Anywhere</span>\n",
       "</div><div class=\"opening\" data-department-4027998003=\"true\" data-department-4028003003=\"true\" data-office-4019860003=\"true\" department_id=\"4027998003,4028003003\" office_id=\"4019860003\">\n",
       "<a data-mapped=\"true\" href=\"/xapo61/jobs/4324074003\">Senior Data Engineer (Remote - Work from Anywhere)</a>\n",
       "<br/>\n",
       "<span class=\"location\">Remote - Anywhere</span>\n",
       "</div>\n",
       "</section>\n",
       "</section>\n",
       "<section class=\"level-0\">\n",
       "<h3 id=\"4027995003\">Finance </h3>\n",
       "<div class=\"opening\" data-department-4027995003=\"true\" data-office-4019860003=\"true\" department_id=\"4027995003\" office_id=\"4019860003\">\n",
       "<a data-mapped=\"true\" href=\"/xapo61/jobs/4404856003\">Part-Time Accounts Payable (Remote - Work from Anywhere)</a>\n",
       "<br/>\n",
       "<span class=\"location\">Remote - Anywhere</span>\n",
       "</div>\n",
       "<section class=\"child level-1\">\n",
       "<h4 id=\"4031831003\">Operations</h4>\n",
       "<div class=\"opening\" data-department-4027995003=\"true\" data-department-4031831003=\"true\" data-office-4019860003=\"true\" department_id=\"4027995003,4031831003\" office_id=\"4019860003\">\n",
       "<a data-mapped=\"true\" href=\"/xapo61/jobs/4324015003\">Product Owner (Remote - Work from Anywhere)</a>\n",
       "<br/>\n",
       "<span class=\"location\">Remote - Anywhere</span>\n",
       "</div>\n",
       "</section>\n",
       "</section>\n",
       "<section class=\"level-0\">\n",
       "<h3 id=\"4027999003\">Product</h3>\n",
       "<div class=\"opening\" data-department-4027999003=\"true\" data-office-4019860003=\"true\" department_id=\"4027999003\" office_id=\"4019860003\">\n",
       "<a data-mapped=\"true\" href=\"/xapo61/jobs/4432665003\">Senior Product Owner - Internal Services (Remote - Work from Anywhere)</a>\n",
       "<br/>\n",
       "<span class=\"location\">Remote - Anywhere</span>\n",
       "</div>\n",
       "<section class=\"child level-1\">\n",
       "<h4 id=\"4028000003\">Design</h4>\n",
       "<div class=\"opening\" data-department-4027999003=\"true\" data-department-4028000003=\"true\" data-office-4019860003=\"true\" department_id=\"4027999003,4028000003\" office_id=\"4019860003\">\n",
       "<a data-mapped=\"true\" href=\"/xapo61/jobs/4316711003\">Product Designer (Remote - Work from Anywhere)</a>\n",
       "<br/>\n",
       "<span class=\"location\">Remote - Anywhere</span>\n",
       "</div>\n",
       "</section>\n",
       "</section>\n",
       "<section class=\"level-0\">\n",
       "<h3 id=\"4027994003\">Security</h3>\n",
       "<section class=\"child level-1\">\n",
       "<h4 id=\"4028001003\">IT</h4>\n",
       "<div class=\"opening\" data-department-4027994003=\"true\" data-department-4028001003=\"true\" data-office-4019860003=\"true\" department_id=\"4027994003,4028001003\" office_id=\"4019860003\">\n",
       "<a data-mapped=\"true\" href=\"/xapo61/jobs/4351345003\">Tech Support Engineer - Remote (Europe time zone)</a>\n",
       "<br/>\n",
       "<span class=\"location\">Remote - Anywhere</span>\n",
       "</div>\n",
       "</section>\n",
       "</section>\n",
       "<section class=\"level-0\">\n",
       "<h3 id=\"4030484003\">Xapo Talent Community </h3>\n",
       "<div class=\"opening\" data-department-4030484003=\"true\" data-office-4019860003=\"true\" department_id=\"4030484003\" office_id=\"4019860003\">\n",
       "<a data-mapped=\"true\" href=\"/xapo61/jobs/4292186003\">General Interest - Future Consideration</a>\n",
       "<br/>\n",
       "<span class=\"location\">Remote - Anywhere</span>\n",
       "</div>\n",
       "</section>\n",
       "</div>\n",
       "</div>\n",
       "<div id=\"footer\">\n",
       "<span>Powered by</span> <a href=\"http://www.greenhouse.io/\" target=\"_blank\">\n",
       "<img alt=\"Greenhouse Logo\" border=\"0\" height=\"30\" id=\"gh_logo\" src=\"https://boards.cdn.greenhouse.io/assets/greenhouse-in-app-logo-green-e052cd57a78e17c73aac02274af8a878a99cc9fd4b83a41744e6495236645677.svg\" width=\"100\"/>\n",
       "</a> <div class=\"privacy-policy\">\n",
       "      Read our <a href=\"http://www.greenhouse.io/privacy-policy\">Privacy Policy</a>\n",
       "</div>\n",
       "</div>\n",
       "<script src=\"https://boards.cdn.greenhouse.io/assets/application-50981911b3790c9f7f1d5b050acbe4b29e2b44aa6e999bac4a3184afcbe45841.js\"></script>\n",
       "<script src=\"https://boards.cdn.greenhouse.io/assets/index_init-800b578323b1dedcb23ae6f72179a2163a769aff74bb42d2aa824e42bbbd713e.js\"></script>\n",
       "</body>\n",
       "</html>"
      ]
     },
     "execution_count": 221,
     "metadata": {},
     "output_type": "execute_result"
    }
   ],
   "source": [
    "soup_greenhouse"
   ]
  },
  {
   "cell_type": "code",
   "execution_count": 222,
   "metadata": {},
   "outputs": [
    {
     "data": {
      "text/plain": [
       "[<section class=\"level-0\">\n",
       " <h3 id=\"4028838003\">Compliance</h3>\n",
       " <div class=\"opening\" data-department-4028838003=\"true\" data-office-4019860003=\"true\" department_id=\"4028838003\" office_id=\"4019860003\">\n",
       " <a data-mapped=\"true\" href=\"/xapo61/jobs/4487792003\">Anti-Financial Crime Operations and Quality Assurance Manager</a>\n",
       " <br/>\n",
       " <span class=\"location\">Remote - Anywhere</span>\n",
       " </div>\n",
       " </section>,\n",
       " <section class=\"level-0\">\n",
       " <h3 id=\"4027998003\">Engineering</h3>\n",
       " <div class=\"opening\" data-department-4027998003=\"true\" data-office-4019860003=\"true\" department_id=\"4027998003\" office_id=\"4019860003\">\n",
       " <a data-mapped=\"true\" href=\"/xapo61/jobs/4409203003\">Backend Developer Lead (Remote - Work from Anywhere)</a>\n",
       " <br/>\n",
       " <span class=\"location\">Remote - Anywhere</span>\n",
       " </div><div class=\"opening\" data-department-4027998003=\"true\" data-office-4019860003=\"true\" department_id=\"4027998003\" office_id=\"4019860003\">\n",
       " <a data-mapped=\"true\" href=\"/xapo61/jobs/4433247003\">Backend Developer Lead (Remote - Work from Anywhere)</a>\n",
       " <br/>\n",
       " <span class=\"location\">Remote - Anywhere</span>\n",
       " </div><div class=\"opening\" data-department-4027998003=\"true\" data-office-4019860003=\"true\" department_id=\"4027998003\" office_id=\"4019860003\">\n",
       " <a data-mapped=\"true\" href=\"/xapo61/jobs/4398685003\">Director of Engineering (Remote - Work from Anywhere)</a>\n",
       " <br/>\n",
       " <span class=\"location\">Remote - Anywhere</span>\n",
       " </div><div class=\"opening\" data-department-4027998003=\"true\" data-office-4019860003=\"true\" department_id=\"4027998003\" office_id=\"4019860003\">\n",
       " <a data-mapped=\"true\" href=\"/xapo61/jobs/4423692003\">Front-End Web Developer (Remote - Work from Anywhere)</a>\n",
       " <br/>\n",
       " <span class=\"location\">Remote - Anywhere</span>\n",
       " </div><div class=\"opening\" data-department-4027998003=\"true\" data-office-4019860003=\"true\" department_id=\"4027998003\" office_id=\"4019860003\">\n",
       " <a data-mapped=\"true\" href=\"/xapo61/jobs/4398679003\">Head of Platform Engineering (Remote - Work from Anywhere)</a>\n",
       " <br/>\n",
       " <span class=\"location\">Remote - Anywhere</span>\n",
       " </div><div class=\"opening\" data-department-4027998003=\"true\" data-office-4019860003=\"true\" department_id=\"4027998003\" office_id=\"4019860003\">\n",
       " <a data-mapped=\"true\" href=\"/xapo61/jobs/4433105003\">Head of QA (Remote - Work from Anywhere)</a>\n",
       " <br/>\n",
       " <span class=\"location\">Remote - Anywhere</span>\n",
       " </div><div class=\"opening\" data-department-4027998003=\"true\" data-office-4019860003=\"true\" department_id=\"4027998003\" office_id=\"4019860003\">\n",
       " <a data-mapped=\"true\" href=\"/xapo61/jobs/4433231003\">Platform Engineer (Remote - Work from Anywhere)</a>\n",
       " <br/>\n",
       " <span class=\"location\">Remote - Anywhere</span>\n",
       " </div><div class=\"opening\" data-department-4027998003=\"true\" data-office-4019860003=\"true\" department_id=\"4027998003\" office_id=\"4019860003\">\n",
       " <a data-mapped=\"true\" href=\"/xapo61/jobs/4436980003\">Senior Backend Developer (Remote - Work from Anywhere)</a>\n",
       " <br/>\n",
       " <span class=\"location\">Remote - Anywhere</span>\n",
       " </div><div class=\"opening\" data-department-4027998003=\"true\" data-office-4019860003=\"true\" department_id=\"4027998003\" office_id=\"4019860003\">\n",
       " <a data-mapped=\"true\" href=\"/xapo61/jobs/4432985003\">SRE/DevOps Engineer (Remote - Work from Anywhere)</a>\n",
       " <br/>\n",
       " <span class=\"location\">Remote - Anywhere</span>\n",
       " </div>\n",
       " <section class=\"child level-1\">\n",
       " <h4 id=\"4028003003\">Data</h4>\n",
       " <div class=\"opening\" data-department-4027998003=\"true\" data-department-4028003003=\"true\" data-office-4019860003=\"true\" department_id=\"4027998003,4028003003\" office_id=\"4019860003\">\n",
       " <a data-mapped=\"true\" href=\"/xapo61/jobs/4324078003\">Product Insights &amp; Analytics (Remote - Work from Anywhere)</a>\n",
       " <br/>\n",
       " <span class=\"location\">Remote - Anywhere</span>\n",
       " </div><div class=\"opening\" data-department-4027998003=\"true\" data-department-4028003003=\"true\" data-office-4019860003=\"true\" department_id=\"4027998003,4028003003\" office_id=\"4019860003\">\n",
       " <a data-mapped=\"true\" href=\"/xapo61/jobs/4324074003\">Senior Data Engineer (Remote - Work from Anywhere)</a>\n",
       " <br/>\n",
       " <span class=\"location\">Remote - Anywhere</span>\n",
       " </div>\n",
       " </section>\n",
       " </section>,\n",
       " <section class=\"child level-1\">\n",
       " <h4 id=\"4028003003\">Data</h4>\n",
       " <div class=\"opening\" data-department-4027998003=\"true\" data-department-4028003003=\"true\" data-office-4019860003=\"true\" department_id=\"4027998003,4028003003\" office_id=\"4019860003\">\n",
       " <a data-mapped=\"true\" href=\"/xapo61/jobs/4324078003\">Product Insights &amp; Analytics (Remote - Work from Anywhere)</a>\n",
       " <br/>\n",
       " <span class=\"location\">Remote - Anywhere</span>\n",
       " </div><div class=\"opening\" data-department-4027998003=\"true\" data-department-4028003003=\"true\" data-office-4019860003=\"true\" department_id=\"4027998003,4028003003\" office_id=\"4019860003\">\n",
       " <a data-mapped=\"true\" href=\"/xapo61/jobs/4324074003\">Senior Data Engineer (Remote - Work from Anywhere)</a>\n",
       " <br/>\n",
       " <span class=\"location\">Remote - Anywhere</span>\n",
       " </div>\n",
       " </section>,\n",
       " <section class=\"level-0\">\n",
       " <h3 id=\"4027995003\">Finance </h3>\n",
       " <div class=\"opening\" data-department-4027995003=\"true\" data-office-4019860003=\"true\" department_id=\"4027995003\" office_id=\"4019860003\">\n",
       " <a data-mapped=\"true\" href=\"/xapo61/jobs/4404856003\">Part-Time Accounts Payable (Remote - Work from Anywhere)</a>\n",
       " <br/>\n",
       " <span class=\"location\">Remote - Anywhere</span>\n",
       " </div>\n",
       " <section class=\"child level-1\">\n",
       " <h4 id=\"4031831003\">Operations</h4>\n",
       " <div class=\"opening\" data-department-4027995003=\"true\" data-department-4031831003=\"true\" data-office-4019860003=\"true\" department_id=\"4027995003,4031831003\" office_id=\"4019860003\">\n",
       " <a data-mapped=\"true\" href=\"/xapo61/jobs/4324015003\">Product Owner (Remote - Work from Anywhere)</a>\n",
       " <br/>\n",
       " <span class=\"location\">Remote - Anywhere</span>\n",
       " </div>\n",
       " </section>\n",
       " </section>,\n",
       " <section class=\"child level-1\">\n",
       " <h4 id=\"4031831003\">Operations</h4>\n",
       " <div class=\"opening\" data-department-4027995003=\"true\" data-department-4031831003=\"true\" data-office-4019860003=\"true\" department_id=\"4027995003,4031831003\" office_id=\"4019860003\">\n",
       " <a data-mapped=\"true\" href=\"/xapo61/jobs/4324015003\">Product Owner (Remote - Work from Anywhere)</a>\n",
       " <br/>\n",
       " <span class=\"location\">Remote - Anywhere</span>\n",
       " </div>\n",
       " </section>,\n",
       " <section class=\"level-0\">\n",
       " <h3 id=\"4027999003\">Product</h3>\n",
       " <div class=\"opening\" data-department-4027999003=\"true\" data-office-4019860003=\"true\" department_id=\"4027999003\" office_id=\"4019860003\">\n",
       " <a data-mapped=\"true\" href=\"/xapo61/jobs/4432665003\">Senior Product Owner - Internal Services (Remote - Work from Anywhere)</a>\n",
       " <br/>\n",
       " <span class=\"location\">Remote - Anywhere</span>\n",
       " </div>\n",
       " <section class=\"child level-1\">\n",
       " <h4 id=\"4028000003\">Design</h4>\n",
       " <div class=\"opening\" data-department-4027999003=\"true\" data-department-4028000003=\"true\" data-office-4019860003=\"true\" department_id=\"4027999003,4028000003\" office_id=\"4019860003\">\n",
       " <a data-mapped=\"true\" href=\"/xapo61/jobs/4316711003\">Product Designer (Remote - Work from Anywhere)</a>\n",
       " <br/>\n",
       " <span class=\"location\">Remote - Anywhere</span>\n",
       " </div>\n",
       " </section>\n",
       " </section>,\n",
       " <section class=\"child level-1\">\n",
       " <h4 id=\"4028000003\">Design</h4>\n",
       " <div class=\"opening\" data-department-4027999003=\"true\" data-department-4028000003=\"true\" data-office-4019860003=\"true\" department_id=\"4027999003,4028000003\" office_id=\"4019860003\">\n",
       " <a data-mapped=\"true\" href=\"/xapo61/jobs/4316711003\">Product Designer (Remote - Work from Anywhere)</a>\n",
       " <br/>\n",
       " <span class=\"location\">Remote - Anywhere</span>\n",
       " </div>\n",
       " </section>,\n",
       " <section class=\"level-0\">\n",
       " <h3 id=\"4027994003\">Security</h3>\n",
       " <section class=\"child level-1\">\n",
       " <h4 id=\"4028001003\">IT</h4>\n",
       " <div class=\"opening\" data-department-4027994003=\"true\" data-department-4028001003=\"true\" data-office-4019860003=\"true\" department_id=\"4027994003,4028001003\" office_id=\"4019860003\">\n",
       " <a data-mapped=\"true\" href=\"/xapo61/jobs/4351345003\">Tech Support Engineer - Remote (Europe time zone)</a>\n",
       " <br/>\n",
       " <span class=\"location\">Remote - Anywhere</span>\n",
       " </div>\n",
       " </section>\n",
       " </section>,\n",
       " <section class=\"child level-1\">\n",
       " <h4 id=\"4028001003\">IT</h4>\n",
       " <div class=\"opening\" data-department-4027994003=\"true\" data-department-4028001003=\"true\" data-office-4019860003=\"true\" department_id=\"4027994003,4028001003\" office_id=\"4019860003\">\n",
       " <a data-mapped=\"true\" href=\"/xapo61/jobs/4351345003\">Tech Support Engineer - Remote (Europe time zone)</a>\n",
       " <br/>\n",
       " <span class=\"location\">Remote - Anywhere</span>\n",
       " </div>\n",
       " </section>,\n",
       " <section class=\"level-0\">\n",
       " <h3 id=\"4030484003\">Xapo Talent Community </h3>\n",
       " <div class=\"opening\" data-department-4030484003=\"true\" data-office-4019860003=\"true\" department_id=\"4030484003\" office_id=\"4019860003\">\n",
       " <a data-mapped=\"true\" href=\"/xapo61/jobs/4292186003\">General Interest - Future Consideration</a>\n",
       " <br/>\n",
       " <span class=\"location\">Remote - Anywhere</span>\n",
       " </div>\n",
       " </section>]"
      ]
     },
     "execution_count": 222,
     "metadata": {},
     "output_type": "execute_result"
    }
   ],
   "source": [
    "soup_greenhouse.find_all(\"section\")"
   ]
  },
  {
   "cell_type": "markdown",
   "metadata": {},
   "source": [
    "Dom tree structure is a bit more complex than lever. I can gather all the data I need in the \\<div class=\"opening\">, as well as a department id number. I will need to make a dictionary of departments + their id numbers and then \"translate\" these numbers to actual departments "
   ]
  },
  {
   "cell_type": "markdown",
   "metadata": {},
   "source": [
    "**Extract all h3 ids to create department dictionary**"
   ]
  },
  {
   "cell_type": "code",
   "execution_count": 245,
   "metadata": {},
   "outputs": [],
   "source": [
    "translation_dict = {}\n",
    "for x in soup_greenhouse.find_all(\"section\"):\n",
    "    if x.find_all(\"h3\"):\n",
    "        translation_dict[x.find(\"h3\")[\"id\"]] = x.find(\"h3\").get_text()\n",
    "    else:\n",
    "        translation_dict[x.find(\"h4\")[\"id\"]] = x.find(\"h4\").get_text()"
   ]
  },
  {
   "cell_type": "code",
   "execution_count": 246,
   "metadata": {},
   "outputs": [
    {
     "data": {
      "text/plain": [
       "{'4028838003': 'Compliance',\n",
       " '4027998003': 'Engineering',\n",
       " '4028003003': 'Data',\n",
       " '4027995003': 'Finance ',\n",
       " '4031831003': 'Operations',\n",
       " '4027999003': 'Product',\n",
       " '4028000003': 'Design',\n",
       " '4027994003': 'Security',\n",
       " '4028001003': 'IT',\n",
       " '4030484003': 'Xapo Talent Community '}"
      ]
     },
     "execution_count": 246,
     "metadata": {},
     "output_type": "execute_result"
    }
   ],
   "source": [
    "translation_dict"
   ]
  },
  {
   "cell_type": "markdown",
   "metadata": {},
   "source": [
    "**Extract job title, location, department id, and url**"
   ]
  },
  {
   "cell_type": "code",
   "execution_count": 272,
   "metadata": {
    "scrolled": true
   },
   "outputs": [
    {
     "data": {
      "text/plain": [
       "['4027998003']"
      ]
     },
     "execution_count": 272,
     "metadata": {},
     "output_type": "execute_result"
    }
   ],
   "source": [
    "#department id, split to account for listings with multiple dpt ids\n",
    "soup_greenhouse.find(\"div\", {\"class\":\"opening\"})[\"department_id\"].split(\",\")"
   ]
  },
  {
   "cell_type": "code",
   "execution_count": 255,
   "metadata": {
    "scrolled": true
   },
   "outputs": [
    {
     "data": {
      "text/plain": [
       "'https://boards.greenhouse.io/xapo61/jobs/4398685003'"
      ]
     },
     "execution_count": 255,
     "metadata": {},
     "output_type": "execute_result"
    }
   ],
   "source": [
    "#url\n",
    "base_url = \"https://boards.greenhouse.io\"\n",
    "base_url + soup_greenhouse.find(\"div\", {\"class\":\"opening\"}).a[\"href\"]"
   ]
  },
  {
   "cell_type": "code",
   "execution_count": 261,
   "metadata": {},
   "outputs": [
    {
     "data": {
      "text/plain": [
       "'Director of Engineering (Remote - Work from Anywhere)'"
      ]
     },
     "execution_count": 261,
     "metadata": {},
     "output_type": "execute_result"
    }
   ],
   "source": [
    "#job title\n",
    "soup_greenhouse.find(\"div\", {\"class\":\"opening\"}).a.get_text()"
   ]
  },
  {
   "cell_type": "code",
   "execution_count": 262,
   "metadata": {},
   "outputs": [
    {
     "data": {
      "text/plain": [
       "'Remote - Anywhere'"
      ]
     },
     "execution_count": 262,
     "metadata": {},
     "output_type": "execute_result"
    }
   ],
   "source": [
    "#location\n",
    "soup_greenhouse.find(\"div\", {\"class\":\"opening\"}).span.get_text()"
   ]
  },
  {
   "cell_type": "code",
   "execution_count": 273,
   "metadata": {},
   "outputs": [],
   "source": [
    "greenhouse_all_jobs = []\n",
    "for x in soup_greenhouse.find_all(\"div\", {\"class\":\"opening\"}):\n",
    "    dept_ids = []\n",
    "    for d_id in x[\"department_id\"].split(\",\"):\n",
    "        dept_ids.append(translation_dict[d_id])\n",
    "    job_details = [x.a.get_text(),\n",
    "                  x.span.get_text(),\n",
    "                  dept_ids,\n",
    "                  base_url + x.a[\"href\"]]\n",
    "    greenhouse_all_jobs.append(job_details)"
   ]
  },
  {
   "cell_type": "code",
   "execution_count": 275,
   "metadata": {},
   "outputs": [
    {
     "data": {
      "text/plain": [
       "[['Director of Engineering (Remote - Work from Anywhere)',\n",
       "  'Remote - Anywhere',\n",
       "  ['Engineering'],\n",
       "  'https://boards.greenhouse.io/xapo61/jobs/4398685003'],\n",
       " ['Front-End Web Developer (Remote - Work from Anywhere)',\n",
       "  'Remote - Anywhere',\n",
       "  ['Engineering'],\n",
       "  'https://boards.greenhouse.io/xapo61/jobs/4423692003'],\n",
       " ['Head of Platform Engineering (Remote - Work from Anywhere)',\n",
       "  'Remote - Anywhere',\n",
       "  ['Engineering'],\n",
       "  'https://boards.greenhouse.io/xapo61/jobs/4398679003'],\n",
       " ['Head of QA (Remote - Work from Anywhere)',\n",
       "  'Remote - Anywhere',\n",
       "  ['Engineering'],\n",
       "  'https://boards.greenhouse.io/xapo61/jobs/4433105003'],\n",
       " ['Platform Engineer (Remote - Work from Anywhere)',\n",
       "  'Remote - Anywhere',\n",
       "  ['Engineering'],\n",
       "  'https://boards.greenhouse.io/xapo61/jobs/4433231003'],\n",
       " ['Senior Backend Developer (Remote - Work from Anywhere)',\n",
       "  'Remote - Anywhere',\n",
       "  ['Engineering'],\n",
       "  'https://boards.greenhouse.io/xapo61/jobs/4436980003'],\n",
       " ['SRE/DevOps Engineer (Remote - Work from Anywhere)',\n",
       "  'Remote - Anywhere',\n",
       "  ['Engineering'],\n",
       "  'https://boards.greenhouse.io/xapo61/jobs/4432985003'],\n",
       " ['Product Insights & Analytics (Remote - Work from Anywhere)',\n",
       "  'Remote - Anywhere',\n",
       "  ['Engineering', 'Data'],\n",
       "  'https://boards.greenhouse.io/xapo61/jobs/4324078003'],\n",
       " ['Senior Data Engineer (Remote - Work from Anywhere)',\n",
       "  'Remote - Anywhere',\n",
       "  ['Engineering', 'Data'],\n",
       "  'https://boards.greenhouse.io/xapo61/jobs/4324074003'],\n",
       " ['Part-Time Accounts Payable (Remote - Work from Anywhere)',\n",
       "  'Remote - Anywhere',\n",
       "  ['Finance '],\n",
       "  'https://boards.greenhouse.io/xapo61/jobs/4404856003'],\n",
       " ['Product Owner (Remote - Work from Anywhere)',\n",
       "  'Remote - Anywhere',\n",
       "  ['Finance ', 'Operations'],\n",
       "  'https://boards.greenhouse.io/xapo61/jobs/4324015003'],\n",
       " ['Senior Product Owner - Internal Services (Remote - Work from Anywhere)',\n",
       "  'Remote - Anywhere',\n",
       "  ['Product'],\n",
       "  'https://boards.greenhouse.io/xapo61/jobs/4432665003'],\n",
       " ['Product Designer (Remote - Work from Anywhere)',\n",
       "  'Remote - Anywhere',\n",
       "  ['Product', 'Design'],\n",
       "  'https://boards.greenhouse.io/xapo61/jobs/4316711003'],\n",
       " ['Tech Support Engineer - Remote (Europe time zone)',\n",
       "  'Remote - Anywhere',\n",
       "  ['Security', 'IT'],\n",
       "  'https://boards.greenhouse.io/xapo61/jobs/4351345003'],\n",
       " ['General Interest - Future Consideration',\n",
       "  'Remote - Anywhere',\n",
       "  ['Xapo Talent Community '],\n",
       "  'https://boards.greenhouse.io/xapo61/jobs/4292186003']]"
      ]
     },
     "execution_count": 275,
     "metadata": {},
     "output_type": "execute_result"
    }
   ],
   "source": [
    "greenhouse_all_jobs"
   ]
  },
  {
   "cell_type": "markdown",
   "metadata": {},
   "source": [
    "### C. Workable"
   ]
  },
  {
   "cell_type": "code",
   "execution_count": 29,
   "metadata": {},
   "outputs": [],
   "source": [
    "workable.loc[workable[\"Company\"]== \"SkyVerge\", \"OpenPositions-15.05.2021\"] = \"No\""
   ]
  },
  {
   "cell_type": "code",
   "execution_count": 39,
   "metadata": {},
   "outputs": [
    {
     "data": {
      "text/html": [
       "<div>\n",
       "<style scoped>\n",
       "    .dataframe tbody tr th:only-of-type {\n",
       "        vertical-align: middle;\n",
       "    }\n",
       "\n",
       "    .dataframe tbody tr th {\n",
       "        vertical-align: top;\n",
       "    }\n",
       "\n",
       "    .dataframe thead th {\n",
       "        text-align: right;\n",
       "    }\n",
       "</style>\n",
       "<table border=\"1\" class=\"dataframe\">\n",
       "  <thead>\n",
       "    <tr style=\"text-align: right;\">\n",
       "      <th></th>\n",
       "      <th>Company</th>\n",
       "      <th>URL</th>\n",
       "      <th>HRTool</th>\n",
       "      <th>OpenPositions-15.05.2021</th>\n",
       "    </tr>\n",
       "  </thead>\n",
       "  <tbody>\n",
       "    <tr>\n",
       "      <th>0</th>\n",
       "      <td>SkyVerge</td>\n",
       "      <td>https://apply.workable.com/skyverge/</td>\n",
       "      <td>Workable</td>\n",
       "      <td>No</td>\n",
       "    </tr>\n",
       "    <tr>\n",
       "      <th>1</th>\n",
       "      <td>Semaphore CI</td>\n",
       "      <td>https://apply.workable.com/semaphore/</td>\n",
       "      <td>Workable</td>\n",
       "      <td>NaN</td>\n",
       "    </tr>\n",
       "    <tr>\n",
       "      <th>2</th>\n",
       "      <td>Zyte</td>\n",
       "      <td>https://apply.workable.com/zyte/</td>\n",
       "      <td>Workable</td>\n",
       "      <td>NaN</td>\n",
       "    </tr>\n",
       "    <tr>\n",
       "      <th>3</th>\n",
       "      <td>Doist</td>\n",
       "      <td>https://apply.workable.com/doist/</td>\n",
       "      <td>Workable</td>\n",
       "      <td>NaN</td>\n",
       "    </tr>\n",
       "    <tr>\n",
       "      <th>4</th>\n",
       "      <td>BestSelf</td>\n",
       "      <td>https://apply.workable.com/bestself/</td>\n",
       "      <td>Workable</td>\n",
       "      <td>No</td>\n",
       "    </tr>\n",
       "    <tr>\n",
       "      <th>5</th>\n",
       "      <td>Human Made</td>\n",
       "      <td>https://apply.workable.com/humanmade/</td>\n",
       "      <td>Workable</td>\n",
       "      <td>NaN</td>\n",
       "    </tr>\n",
       "    <tr>\n",
       "      <th>6</th>\n",
       "      <td>Overleaf</td>\n",
       "      <td>https://apply.workable.com/overleaf/</td>\n",
       "      <td>Workable</td>\n",
       "      <td>NaN</td>\n",
       "    </tr>\n",
       "  </tbody>\n",
       "</table>\n",
       "</div>"
      ],
      "text/plain": [
       "        Company                                    URL    HRTool  \\\n",
       "0      SkyVerge   https://apply.workable.com/skyverge/  Workable   \n",
       "1  Semaphore CI  https://apply.workable.com/semaphore/  Workable   \n",
       "2          Zyte       https://apply.workable.com/zyte/  Workable   \n",
       "3         Doist      https://apply.workable.com/doist/  Workable   \n",
       "4      BestSelf   https://apply.workable.com/bestself/  Workable   \n",
       "5    Human Made  https://apply.workable.com/humanmade/  Workable   \n",
       "6      Overleaf   https://apply.workable.com/overleaf/  Workable   \n",
       "\n",
       "  OpenPositions-15.05.2021  \n",
       "0                       No  \n",
       "1                      NaN  \n",
       "2                      NaN  \n",
       "3                      NaN  \n",
       "4                       No  \n",
       "5                      NaN  \n",
       "6                      NaN  "
      ]
     },
     "execution_count": 39,
     "metadata": {},
     "output_type": "execute_result"
    }
   ],
   "source": [
    "workable"
   ]
  },
  {
   "cell_type": "code",
   "execution_count": 79,
   "metadata": {},
   "outputs": [],
   "source": [
    "#website is a JS website, need to post to API in order to get response\n",
    "\n",
    "#url_workable = workable[\"URL\"][1]\n",
    "# response_workable = requests.get(url_workable)\n",
    "# soup_workable = bs4.BeautifulSoup(response_workable.content, \"html.parser\")"
   ]
  },
  {
   "cell_type": "markdown",
   "metadata": {},
   "source": [
    "**Website is created with JS and API calls. Found XHR files to figure out how to call the API. Will need to manually go through and adjust all the workable URLs for API calls**"
   ]
  },
  {
   "cell_type": "code",
   "execution_count": 88,
   "metadata": {},
   "outputs": [],
   "source": [
    "\n",
    "url_workable = \"https://apply.workable.com/api/v3/accounts/semaphore/jobs\""
   ]
  },
  {
   "cell_type": "code",
   "execution_count": 110,
   "metadata": {
    "scrolled": true
   },
   "outputs": [],
   "source": [
    "json_workable = requests.post(url_workable).json()"
   ]
  },
  {
   "cell_type": "code",
   "execution_count": 122,
   "metadata": {},
   "outputs": [
    {
     "data": {
      "text/plain": [
       "{'total': 5,\n",
       " 'results': [{'id': 1757305,\n",
       "   'shortcode': '4987E74E3A',\n",
       "   'title': 'Director of Content',\n",
       "   'remote': True,\n",
       "   'location': {'country': None,\n",
       "    'countryCode': None,\n",
       "    'city': None,\n",
       "    'region': None},\n",
       "   'state': 'published',\n",
       "   'isInternal': False,\n",
       "   'code': '',\n",
       "   'published': '2021-05-20T00:00:00.000Z',\n",
       "   'language': 'en',\n",
       "   'department': ['Marketing'],\n",
       "   'accountUid': '8b8a8312-fdf7-4a9e-8997-f971ec171f4e',\n",
       "   'approvalStatus': 'approved'},\n",
       "  {'id': 1741253,\n",
       "   'shortcode': '64B0A3AD0F',\n",
       "   'title': 'Head of Customer Success',\n",
       "   'remote': True,\n",
       "   'location': {'country': None,\n",
       "    'countryCode': None,\n",
       "    'city': None,\n",
       "    'region': None},\n",
       "   'state': 'published',\n",
       "   'isInternal': False,\n",
       "   'code': '',\n",
       "   'published': '2021-05-17T00:00:00.000Z',\n",
       "   'type': 'full',\n",
       "   'language': 'en',\n",
       "   'department': ['Customer Success'],\n",
       "   'accountUid': '8b8a8312-fdf7-4a9e-8997-f971ec171f4e',\n",
       "   'approvalStatus': 'approved'},\n",
       "  {'id': 1704004,\n",
       "   'shortcode': '69009F8BBA',\n",
       "   'title': 'Marketing Project Manager',\n",
       "   'remote': True,\n",
       "   'location': {'country': None,\n",
       "    'countryCode': None,\n",
       "    'city': None,\n",
       "    'region': None},\n",
       "   'state': 'published',\n",
       "   'isInternal': False,\n",
       "   'code': '',\n",
       "   'published': '2021-04-19T00:00:00.000Z',\n",
       "   'language': 'en',\n",
       "   'department': ['Marketing'],\n",
       "   'accountUid': '8b8a8312-fdf7-4a9e-8997-f971ec171f4e',\n",
       "   'approvalStatus': 'approved'},\n",
       "  {'id': 1687604,\n",
       "   'shortcode': 'C3C1B62E55',\n",
       "   'title': 'Technical Writer',\n",
       "   'remote': True,\n",
       "   'location': {'country': None,\n",
       "    'countryCode': None,\n",
       "    'city': None,\n",
       "    'region': None},\n",
       "   'state': 'published',\n",
       "   'isInternal': False,\n",
       "   'code': '',\n",
       "   'published': '2021-04-08T00:00:00.000Z',\n",
       "   'language': 'en',\n",
       "   'department': ['Marketing'],\n",
       "   'accountUid': '8b8a8312-fdf7-4a9e-8997-f971ec171f4e',\n",
       "   'approvalStatus': 'approved'},\n",
       "  {'id': 1655753,\n",
       "   'shortcode': 'AE0FAFF24C',\n",
       "   'title': 'Senior Product Designer',\n",
       "   'remote': True,\n",
       "   'location': {'country': None,\n",
       "    'countryCode': None,\n",
       "    'city': None,\n",
       "    'region': None},\n",
       "   'state': 'published',\n",
       "   'isInternal': False,\n",
       "   'code': '',\n",
       "   'published': '2021-03-18T00:00:00.000Z',\n",
       "   'type': 'full',\n",
       "   'language': 'en',\n",
       "   'department': ['Design'],\n",
       "   'accountUid': '8b8a8312-fdf7-4a9e-8997-f971ec171f4e',\n",
       "   'approvalStatus': 'approved'}]}"
      ]
     },
     "execution_count": 122,
     "metadata": {},
     "output_type": "execute_result"
    }
   ],
   "source": [
    "json_workable"
   ]
  },
  {
   "cell_type": "code",
   "execution_count": 182,
   "metadata": {},
   "outputs": [
    {
     "name": "stdout",
     "output_type": "stream",
     "text": [
      "[['Director of Content', 'Remote', ['Marketing'], 'https://apply.workable.com/api/v2/accounts/semaphore/jobs/4987E74E3A'], ['Head of Customer Success', 'Remote', ['Customer Success'], 'https://apply.workable.com/api/v2/accounts/semaphore/jobs/64B0A3AD0F'], ['Marketing Project Manager', 'Remote', ['Marketing'], 'https://apply.workable.com/api/v2/accounts/semaphore/jobs/69009F8BBA'], ['Technical Writer', 'Remote', ['Marketing'], 'https://apply.workable.com/api/v2/accounts/semaphore/jobs/C3C1B62E55'], ['Senior Product Designer', 'Remote', ['Design'], 'https://apply.workable.com/api/v2/accounts/semaphore/jobs/AE0FAFF24C']]\n"
     ]
    }
   ],
   "source": [
    "api_url = \"https://apply.workable.com/api/v2/accounts/semaphore/jobs/\"\n",
    "location = \"\"\n",
    "workable_list = []\n",
    "for entry in json_workable[\"results\"]:\n",
    "    if entry[\"remote\"]:\n",
    "            location = \"Remote\"\n",
    "    else: \n",
    "        location = entry[\"location\"][\"country\"]\n",
    "    workable_list.append([entry[\"title\"], location, entry[\"department\"], api_url + entry[\"shortcode\"]])\n",
    "print(workable_list)"
   ]
  },
  {
   "cell_type": "markdown",
   "metadata": {},
   "source": [
    "### D. Breezy"
   ]
  },
  {
   "cell_type": "code",
   "execution_count": 132,
   "metadata": {},
   "outputs": [
    {
     "data": {
      "text/html": [
       "<div>\n",
       "<style scoped>\n",
       "    .dataframe tbody tr th:only-of-type {\n",
       "        vertical-align: middle;\n",
       "    }\n",
       "\n",
       "    .dataframe tbody tr th {\n",
       "        vertical-align: top;\n",
       "    }\n",
       "\n",
       "    .dataframe thead th {\n",
       "        text-align: right;\n",
       "    }\n",
       "</style>\n",
       "<table border=\"1\" class=\"dataframe\">\n",
       "  <thead>\n",
       "    <tr style=\"text-align: right;\">\n",
       "      <th></th>\n",
       "      <th>Company</th>\n",
       "      <th>URL</th>\n",
       "      <th>HRTool</th>\n",
       "      <th>OpenPositions-15.05.2021</th>\n",
       "    </tr>\n",
       "  </thead>\n",
       "  <tbody>\n",
       "    <tr>\n",
       "      <th>0</th>\n",
       "      <td>Skillcrush</td>\n",
       "      <td>https://skillcrush.breezy.hr/</td>\n",
       "      <td>Breezy</td>\n",
       "      <td>NaN</td>\n",
       "    </tr>\n",
       "    <tr>\n",
       "      <th>1</th>\n",
       "      <td>Modern Tribe</td>\n",
       "      <td>https://modern-tribe.breezy.hr/</td>\n",
       "      <td>Breezy</td>\n",
       "      <td>NaN</td>\n",
       "    </tr>\n",
       "    <tr>\n",
       "      <th>2</th>\n",
       "      <td>Skyscrapers</td>\n",
       "      <td>https://skyscrapers.breezy.hr/</td>\n",
       "      <td>Breezy</td>\n",
       "      <td>NaN</td>\n",
       "    </tr>\n",
       "    <tr>\n",
       "      <th>3</th>\n",
       "      <td>Time Doctor</td>\n",
       "      <td>https://time-doctor.breezy.hr/</td>\n",
       "      <td>Breezy</td>\n",
       "      <td>NaN</td>\n",
       "    </tr>\n",
       "    <tr>\n",
       "      <th>4</th>\n",
       "      <td>Dollar Flight Club</td>\n",
       "      <td>https://dollar-flight-club.breezy.hr/</td>\n",
       "      <td>Breezy</td>\n",
       "      <td>NaN</td>\n",
       "    </tr>\n",
       "    <tr>\n",
       "      <th>5</th>\n",
       "      <td>Requis</td>\n",
       "      <td>https://requis.breezy.hr/</td>\n",
       "      <td>Breezy</td>\n",
       "      <td>NaN</td>\n",
       "    </tr>\n",
       "  </tbody>\n",
       "</table>\n",
       "</div>"
      ],
      "text/plain": [
       "              Company                                    URL  HRTool  \\\n",
       "0          Skillcrush          https://skillcrush.breezy.hr/  Breezy   \n",
       "1        Modern Tribe        https://modern-tribe.breezy.hr/  Breezy   \n",
       "2         Skyscrapers         https://skyscrapers.breezy.hr/  Breezy   \n",
       "3         Time Doctor         https://time-doctor.breezy.hr/  Breezy   \n",
       "4  Dollar Flight Club  https://dollar-flight-club.breezy.hr/  Breezy   \n",
       "5              Requis              https://requis.breezy.hr/  Breezy   \n",
       "\n",
       "  OpenPositions-15.05.2021  \n",
       "0                      NaN  \n",
       "1                      NaN  \n",
       "2                      NaN  \n",
       "3                      NaN  \n",
       "4                      NaN  \n",
       "5                      NaN  "
      ]
     },
     "execution_count": 132,
     "metadata": {},
     "output_type": "execute_result"
    }
   ],
   "source": [
    "breezy"
   ]
  },
  {
   "cell_type": "code",
   "execution_count": 201,
   "metadata": {},
   "outputs": [],
   "source": [
    "url_breezy = breezy[\"URL\"][1]"
   ]
  },
  {
   "cell_type": "code",
   "execution_count": 202,
   "metadata": {},
   "outputs": [],
   "source": [
    "response_breezy = requests.get(url_breezy)\n",
    "soup_breezy = bs4.BeautifulSoup(response_breezy.content, \"html.parser\")"
   ]
  },
  {
   "cell_type": "code",
   "execution_count": 203,
   "metadata": {},
   "outputs": [
    {
     "data": {
      "text/plain": [
       "[<li class=\"position transition\"><a href=\"/p/95cf7d97bdcc-future-openings-with-modern-tribe\"><button class=\"button apply polygot button-right bzyButtonColor\">%BUTTON_APPLY%</button><h2>Future Openings with Modern Tribe</h2><ul class=\"meta\"><li class=\"location\"><i class=\"fa fa-wifi\"></i><span> Remote Worldwide</span></li><li class=\"type\"><i class=\"fa fa-building\"></i><span class=\"polygot\">%LABEL_POSITION_TYPE_CONTRACT%</span></li></ul><button class=\"button apply polygot button-full bzyButtonColor\">%BUTTON_APPLY%</button></a></li>,\n",
       " <li class=\"position transition\"><a href=\"/p/2440c010f443-product-owner-with-wordpress-experience\"><button class=\"button apply polygot button-right bzyButtonColor\">%BUTTON_APPLY%</button><h2>Product Owner with WordPress Experience</h2><ul class=\"meta\"><li class=\"location\"><i class=\"fa fa-wifi\"></i><span> Remote Worldwide</span></li><li class=\"type\"><i class=\"fa fa-building\"></i><span class=\"polygot\">%LABEL_POSITION_TYPE_CONTRACT%</span></li></ul><button class=\"button apply polygot button-full bzyButtonColor\">%BUTTON_APPLY%</button></a></li>,\n",
       " <li class=\"position transition\"><a href=\"/p/b481f0511faf-quality-assurance-qa-analyst\"><button class=\"button apply polygot button-right bzyButtonColor\">%BUTTON_APPLY%</button><h2>Quality Assurance (QA) Analyst</h2><ul class=\"meta\"><li class=\"location\"><i class=\"fa fa-wifi\"></i><span> Remote Worldwide</span></li><li class=\"type\"><i class=\"fa fa-building\"></i><span class=\"polygot\">%LABEL_POSITION_TYPE_CONTRACT%</span></li><li class=\"department\"><i class=\"fa fa-building\"></i><span>Quality Assurance</span></li></ul><button class=\"button apply polygot button-full bzyButtonColor\">%BUTTON_APPLY%</button></a></li>,\n",
       " <li class=\"position transition\"><a href=\"/p/618cf1fd64c3-visual-designer\"><button class=\"button apply polygot button-right bzyButtonColor\">%BUTTON_APPLY%</button><h2>Visual Designer</h2><ul class=\"meta\"><li class=\"location\"><i class=\"fa fa-wifi\"></i><span> Remote Worldwide</span></li><li class=\"type\"><i class=\"fa fa-building\"></i><span class=\"polygot\">%LABEL_POSITION_TYPE_CONTRACT%</span></li><li class=\"department\"><i class=\"fa fa-building\"></i><span>Agency</span></li></ul><button class=\"button apply polygot button-full bzyButtonColor\">%BUTTON_APPLY%</button></a></li>,\n",
       " <li class=\"position transition\"><a href=\"/p/c7f010ede237-wordpress-frontend-engineer\"><button class=\"button apply polygot button-right bzyButtonColor\">%BUTTON_APPLY%</button><h2>WordPress Frontend Engineer</h2><ul class=\"meta\"><li class=\"location\"><i class=\"fa fa-map-marker\"></i><span>Remote</span><span class=\"spacer\"> - </span><i class=\"fa fa-wifi\"></i><span class=\"polygot\">%LABEL_POSITION_TYPE_REMOTE%</span></li><li class=\"type\"><i class=\"fa fa-building\"></i><span class=\"polygot\">%LABEL_POSITION_TYPE_FULL_TIME%</span></li><li class=\"department\"><i class=\"fa fa-building\"></i><span>Development</span></li></ul><button class=\"button apply polygot button-full bzyButtonColor\">%BUTTON_APPLY%</button></a></li>]"
      ]
     },
     "execution_count": 203,
     "metadata": {},
     "output_type": "execute_result"
    }
   ],
   "source": [
    "soup_breezy.find_all(\"li\", {\"class\":\"position transition\"})"
   ]
  },
  {
   "cell_type": "code",
   "execution_count": 204,
   "metadata": {
    "scrolled": true
   },
   "outputs": [
    {
     "name": "stdout",
     "output_type": "stream",
     "text": [
      "[['Future Openings with Modern Tribe', ' Remote Worldwide', 'Unknown', 'https://modern-tribe.breezy.hr/p/95cf7d97bdcc-future-openings-with-modern-tribe'], ['Product Owner with WordPress Experience', ' Remote Worldwide', 'Unknown', 'https://modern-tribe.breezy.hr/p/2440c010f443-product-owner-with-wordpress-experience'], ['Quality Assurance (QA) Analyst', ' Remote Worldwide', ' Remote Worldwide', 'https://modern-tribe.breezy.hr/p/b481f0511faf-quality-assurance-qa-analyst'], ['Visual Designer', ' Remote Worldwide', ' Remote Worldwide', 'https://modern-tribe.breezy.hr/p/618cf1fd64c3-visual-designer'], ['WordPress Frontend Engineer', 'Remote - %LABEL_POSITION_TYPE_REMOTE%', 'Remote - %LABEL_POSITION_TYPE_REMOTE%', 'https://modern-tribe.breezy.hr/p/c7f010ede237-wordpress-frontend-engineer']]\n"
     ]
    }
   ],
   "source": [
    "breezy_list = []\n",
    "dept = \"\"\n",
    "for x in soup_breezy.find_all(\"li\", {\"class\":\"position transition\"}):\n",
    "    if x.find(\"li\", {\"class\":\"department\"}):\n",
    "        dept = x.find(\"li\", {\"class\":\"location\"}).text\n",
    "    else:\n",
    "        dept = \"Unknown\" \n",
    "    breezy_list.append([x.h2.text, x.find(\"li\", {\"class\":\"location\"}).text, \n",
    "                        dept, \"https://modern-tribe.breezy.hr\" + x.a.get(\"href\")])\n",
    "print(breezy_list)   "
   ]
  },
  {
   "cell_type": "markdown",
   "metadata": {},
   "source": [
    "### E. Recruitee"
   ]
  },
  {
   "cell_type": "code",
   "execution_count": 205,
   "metadata": {},
   "outputs": [
    {
     "data": {
      "text/html": [
       "<div>\n",
       "<style scoped>\n",
       "    .dataframe tbody tr th:only-of-type {\n",
       "        vertical-align: middle;\n",
       "    }\n",
       "\n",
       "    .dataframe tbody tr th {\n",
       "        vertical-align: top;\n",
       "    }\n",
       "\n",
       "    .dataframe thead th {\n",
       "        text-align: right;\n",
       "    }\n",
       "</style>\n",
       "<table border=\"1\" class=\"dataframe\">\n",
       "  <thead>\n",
       "    <tr style=\"text-align: right;\">\n",
       "      <th></th>\n",
       "      <th>Company</th>\n",
       "      <th>URL</th>\n",
       "      <th>HRTool</th>\n",
       "      <th>OpenPositions-15.05.2021</th>\n",
       "    </tr>\n",
       "  </thead>\n",
       "  <tbody>\n",
       "    <tr>\n",
       "      <th>0</th>\n",
       "      <td>AULA</td>\n",
       "      <td>https://aulaeducation.recruitee.com/</td>\n",
       "      <td>Recruitee</td>\n",
       "      <td>NaN</td>\n",
       "    </tr>\n",
       "    <tr>\n",
       "      <th>1</th>\n",
       "      <td>DockYard</td>\n",
       "      <td>https://dockyardinc1.recruitee.com/</td>\n",
       "      <td>Recruitee</td>\n",
       "      <td>NaN</td>\n",
       "    </tr>\n",
       "    <tr>\n",
       "      <th>2</th>\n",
       "      <td>DuckDuckGo</td>\n",
       "      <td>https://duckduckgo.recruitee.com/</td>\n",
       "      <td>Recruitee</td>\n",
       "      <td>NaN</td>\n",
       "    </tr>\n",
       "    <tr>\n",
       "      <th>3</th>\n",
       "      <td>Circular</td>\n",
       "      <td>https://trycircular.recruitee.com/</td>\n",
       "      <td>Recruitee</td>\n",
       "      <td>NaN</td>\n",
       "    </tr>\n",
       "  </tbody>\n",
       "</table>\n",
       "</div>"
      ],
      "text/plain": [
       "      Company                                   URL     HRTool  \\\n",
       "0        AULA  https://aulaeducation.recruitee.com/  Recruitee   \n",
       "1    DockYard   https://dockyardinc1.recruitee.com/  Recruitee   \n",
       "2  DuckDuckGo     https://duckduckgo.recruitee.com/  Recruitee   \n",
       "3    Circular    https://trycircular.recruitee.com/  Recruitee   \n",
       "\n",
       "  OpenPositions-15.05.2021  \n",
       "0                      NaN  \n",
       "1                      NaN  \n",
       "2                      NaN  \n",
       "3                      NaN  "
      ]
     },
     "execution_count": 205,
     "metadata": {},
     "output_type": "execute_result"
    }
   ],
   "source": [
    "recruitee"
   ]
  },
  {
   "cell_type": "code",
   "execution_count": 206,
   "metadata": {},
   "outputs": [],
   "source": [
    "url_recruitee = recruitee[\"URL\"][0]\n",
    "response_recruitee = requests.get(url_recruitee)\n",
    "soup_recruitee = bs4.BeautifulSoup(response_recruitee.content, \"html.parser\")"
   ]
  },
  {
   "cell_type": "code",
   "execution_count": 249,
   "metadata": {},
   "outputs": [
    {
     "name": "stdout",
     "output_type": "stream",
     "text": [
      "[['Senior User Researcher', 'Remote job', 'Product', 'https://aulaeducation.recruitee.com/o/senior-user-researcher'], ['Senior Software Engineer - Full Remote - EdTech Startup', 'Remote job', 'Product', 'https://aulaeducation.recruitee.com/o/senior-software-engineer-full-remote-edtech-startup'], ['Senior Data Analyst - Full Remote', 'Remote job', 'Product', 'https://aulaeducation.recruitee.com/o/senior-data-analyst-full-remote'], ['Learning Design Coach', 'Remote job', 'Learning', 'https://aulaeducation.recruitee.com/o/learning-design-coach']]\n"
     ]
    }
   ],
   "source": [
    "recruitee_list = []\n",
    "for x in soup_recruitee.find_all(\"a\", {\"class\":\"col-md-6\"}):\n",
    "    recruitee_list.append([x.h5.text.strip(), x.find(\"li\", {\"class\":\"location\"}).text.strip(), \n",
    "                           x.find(\"div\", {\"class\":\"department\"}).text.strip(), \n",
    "                           \"https://aulaeducation.recruitee.com\"+ x[\"href\"]])\n",
    "print(recruitee_list)"
   ]
  },
  {
   "cell_type": "markdown",
   "metadata": {},
   "source": [
    "## Conclusions"
   ]
  },
  {
   "cell_type": "markdown",
   "metadata": {},
   "source": [
    "**Achieved making MVP for every hr job platform that I have seen so far**\n",
    "\n",
    "Next steps\n",
    "1. Fully outline pipeline so that I can understand what I would like my database to look like and how I will use/connect each step\n",
    "2. Create classes/functions in an IDE\n",
    "3. Automate the pipeline so I can schedule scrapes\n",
    "4. After development of the pipeline basics, move on to MVP of extracting the job posting url"
   ]
  }
 ],
 "metadata": {
  "kernelspec": {
   "display_name": "Python 3",
   "language": "python",
   "name": "python3"
  },
  "language_info": {
   "codemirror_mode": {
    "name": "ipython",
    "version": 3
   },
   "file_extension": ".py",
   "mimetype": "text/x-python",
   "name": "python",
   "nbconvert_exporter": "python",
   "pygments_lexer": "ipython3",
   "version": "3.8.5"
  }
 },
 "nbformat": 4,
 "nbformat_minor": 4
}
