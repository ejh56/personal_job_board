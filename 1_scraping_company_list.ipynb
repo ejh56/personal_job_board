{
 "cells": [
  {
   "cell_type": "code",
   "execution_count": 54,
   "metadata": {},
   "outputs": [],
   "source": [
    "import pandas as pd\n",
    "import requests\n",
    "import bs4\n",
    "\n",
    "CSV = False"
   ]
  },
  {
   "cell_type": "markdown",
   "metadata": {},
   "source": [
    "# Scraping Remote-First Companies from List websites\n",
    "\n",
    "Goal:\n",
    "\n",
    "\n",
    "**Get a dict of remote first companies and their career page url**\n",
    "\n",
    "\n"
   ]
  },
  {
   "cell_type": "markdown",
   "metadata": {},
   "source": [
    "## 1. Get beautiful soup"
   ]
  },
  {
   "cell_type": "code",
   "execution_count": 30,
   "metadata": {},
   "outputs": [],
   "source": [
    "url = \"https://www.remotecompany.com/blog/remote-first-companies-list\""
   ]
  },
  {
   "cell_type": "code",
   "execution_count": 31,
   "metadata": {},
   "outputs": [],
   "source": [
    "response = requests.get(url)"
   ]
  },
  {
   "cell_type": "code",
   "execution_count": 32,
   "metadata": {},
   "outputs": [],
   "source": [
    "soup = bs4.BeautifulSoup(response.content, \"html.parser\")"
   ]
  },
  {
   "cell_type": "markdown",
   "metadata": {},
   "source": [
    "## 2. Explore html tags and extract info to dict"
   ]
  },
  {
   "cell_type": "code",
   "execution_count": 33,
   "metadata": {},
   "outputs": [],
   "source": [
    "links = []\n",
    "for x in soup.find_all(\"ol\"):\n",
    "    links.extend(x.find_all(\"a\"))"
   ]
  },
  {
   "cell_type": "code",
   "execution_count": 34,
   "metadata": {},
   "outputs": [
    {
     "data": {
      "text/plain": [
       "[<a href=\"https://www.olark.com/jobs\" target=\"_blank\"><u>Olark</u></a>,\n",
       " <a href=\"https://www.helpscout.com/company/careers/\" target=\"_blank\"><u>Help Scout</u></a>,\n",
       " <a href=\"https://jobs.lever.co/close.io/\" target=\"_blank\"><u>Close</u></a>,\n",
       " <a href=\"https://careers.prezly.com/\" target=\"_blank\"><u>Prezly</u></a>,\n",
       " <a href=\"https://skillcrush.breezy.hr/\" target=\"_blank\"><u>Skillcrush</u></a>,\n",
       " <a href=\"https://articulate.com/company/careers\" target=\"_blank\"><u>Articulate</u></a>,\n",
       " <a href=\"https://aulaeducation.recruitee.com/\" target=\"_blank\"><u>AULA</u></a>,\n",
       " <a href=\"https://mangolanguages.com/company/careers/\" target=\"_blank\"><u>MangoLanguages</u></a>,\n",
       " <a href=\"https://www.fire-engine-red.com/career/\" target=\"_blank\"><u>Fire Engine Red</u></a>,\n",
       " <a href=\"https://stripe.com/jobs/search?l=remote\" target=\"_blank\"><u>Stripe</u></a>,\n",
       " <a href=\"https://www.youneedabudget.com/landing/jobs/\" target=\"_blank\"><u>YNAB</u></a>,\n",
       " <a href=\"https://xapo.com/careers/\" target=\"_blank\"><u>Xapo</u></a>,\n",
       " <a href=\"https://www.blockchain.com/careers#jobs\" target=\"_blank\"><u>Blockchain</u></a>,\n",
       " <a href=\"https://www.dollarsprout.com/careers/\" target=\"_blank\"><u>DollarSprout</u></a>,\n",
       " <a href=\"https://www.mailerlite.com/jobs\" target=\"_blank\"><u>MailerLite</u></a>,\n",
       " <a href=\"https://www.mailersend.com/jobs\" target=\"_blank\"><u>MailerSend</u></a>,\n",
       " <a href=\"https://zapier.com/jobs/\" target=\"_blank\"><u>Zapier</u></a>,\n",
       " <a href=\"https://careers.hotjar.com/\" target=\"_blank\"><u>Hotjar</u></a>,\n",
       " <a href=\"https://meetedgar.com/careers/\" target=\"_blank\"><u>Edgar</u></a>,\n",
       " <a href=\"https://journey.buffer.com/\" target=\"_blank\"><u>Buffer</u></a>,\n",
       " <a href=\"https://xtensio.com/careers/\" target=\"_blank\"><u>Xtensio</u></a>,\n",
       " <a href=\"https://leadsbridge.freshteam.com/jobs/\" target=\"_blank\"><u>LeadsBridge</u></a>,\n",
       " <a href=\"https://www.skyverge.com/jobs/\" target=\"_blank\"><u>SkyVerge</u></a>,\n",
       " <a href=\"https://memberful.com/jobs/\" target=\"_blank\"><u>Memberful</u></a>,\n",
       " <a href=\"https://blog.arkency.com/join-our-team/\" target=\"_blank\"><u>Arkency</u></a>,\n",
       " <a href=\"https://automattic.com/work-with-us/\" target=\"_blank\"><u>Automattic</u></a>,\n",
       " <a href=\"https://www.clevertech.biz/careers\" target=\"_blank\"><u>Clevertech</u></a>,\n",
       " <a href=\"https://dockyardinc1.recruitee.com/\" target=\"_blank\"><u>DockYard</u></a>,\n",
       " <a href=\"https://www.genuitec.com/company/careers/\" target=\"_blank\"><u>Genuitec</u></a>,\n",
       " <a href=\"https://tri.be/careers\" target=\"_blank\"><u>Modern Tribe</u></a>,\n",
       " <a href=\"https://www.guilded.gg/jobs\" target=\"_blank\"><u>Guilded</u></a>,\n",
       " <a href=\"https://semaphoreci.com/about/careers\"><u>Semaphore CI</u></a>,\n",
       " <a href=\"https://buildkite.com/careers\"><u>Buildkite</u></a>,\n",
       " <a href=\"https://www.knack.com/jobs\"><u>Knack</u></a>,\n",
       " <a href=\"https://www.invisionapp.com/careers\" target=\"_blank\"><u>InVision</u></a>,\n",
       " <a href=\"https://www.collage.com/careers\"><u>Collage</u></a>,\n",
       " <a href=\"https://1secondeveryday.tilda.ws/jobs\" target=\"_blank\"><u>1 Second Everyday</u></a>,\n",
       " <a href=\"https://www.uscreen.tv/careers/\" target=\"_blank\"><u>Uscreen</u></a>,\n",
       " <a href=\"https://www.superside.com/career\" target=\"_blank\"><u>Superside</u></a>,\n",
       " <a href=\"https://www.84codes.com/career/\" target=\"_blank\"><u>84codes</u></a>,\n",
       " <a href=\"https://about.gitlab.com/jobs/\" target=\"_blank\"><u>GitLab</u></a>,\n",
       " <a href=\"https://www.axelerant.com/careers\" target=\"_blank\"><u>Axelerant</u></a>,\n",
       " <a href=\"https://www.buddyboss.com/careers/\" target=\"_blank\"><u>BuddyBoss</u></a>,\n",
       " <a href=\"https://careers.ghost.org/\" target=\"_blank\"><u>Ghost</u></a>,\n",
       " <a href=\"https://particular.net/careers\" target=\"_blank\"><u>Particular Software</u></a>,\n",
       " <a href=\"https://www.zyte.com/jobs/\" target=\"_blank\"><u>Zyte</u></a>,\n",
       " <a href=\"https://skyscrapers.eu/jobs/\" target=\"_blank\"><u>Skyscrapers</u></a>,\n",
       " <a href=\"https://about.sourcegraph.com/jobs/\" target=\"_blank\"><u>Sourcegraph</u></a>,\n",
       " <a href=\"https://ten7.com/careers\" target=\"_blank\"><u>Ten</u></a>,\n",
       " <a href=\"https://www.ycode.com/jobs\" target=\"_blank\"><u>Ycode</u></a>,\n",
       " <a href=\"https://www.sketch.com/jobs/\" target=\"_blank\"><u>Sketch</u></a>,\n",
       " <a href=\"https://10up.com/careers/\" target=\"_blank\"><u>10up</u></a>,\n",
       " <a href=\"https://pitchlift.co/about/careers\" target=\"_blank\"><u>PitchLift</u></a>,\n",
       " <a href=\"https://bejamas.io/careers/\" target=\"_blank\"><u>Bejamas</u></a>,\n",
       " <a href=\"https://x-team.com/join/\" target=\"_blank\"><u>X-Team</u></a>,\n",
       " <a href=\"https://basecamp.com/about/jobs\" target=\"_blank\"><u>Basecamp</u></a>,\n",
       " <a href=\"https://doist.com/jobs/\" target=\"_blank\"><u>Doist</u></a>,\n",
       " <a href=\"https://apply.workable.com/bestself/\" target=\"_blank\"><u>BestSelf</u></a>,\n",
       " <a href=\"https://www.timedoctor.com/jobs.html\" target=\"_blank\"><u>Time Doctor</u></a>,\n",
       " <a href=\"https://hubstaff.com/jobs\" target=\"_blank\"><u>Hubstaff</u></a>,\n",
       " <a href=\"https://www.toggl.com/jobs/\" target=\"_blank\"><u>Toggl</u></a>,\n",
       " <a href=\"https://dollar-flight-club.breezy.hr/\" target=\"_blank\"><u>Dollar Flight Club</u></a>,\n",
       " <a href=\"https://www.backpackertravel.org/job-openings/\" target=\"_blank\"><u>Backpack Travel</u></a>,\n",
       " <a href=\"https://www.bootsnall.com/about-us/jobs\" target=\"_blank\"><u>BootsnAll</u></a>,\n",
       " <a href=\"https://www.cloudbeds.com/careers/\" target=\"_blank\"><u>Cloudbeds</u></a>,\n",
       " <a href=\"https://www.onthegosystems.com/jobs/\" target=\"_blank\"><u>OnTheGoSystems</u></a>,\n",
       " <a href=\"https://humanmade.com/hiring/\" target=\"_blank\"><u>Human Made</u></a>,\n",
       " <a href=\"https://rtcamp.com/careers/\" target=\"_blank\"><u>rtCamp</u></a>,\n",
       " <a href=\"http://soflyy.com/\" target=\"_blank\"><u>Soflyy</u></a>,\n",
       " <a href=\"https://jobs.airbrake.io/\" target=\"_blank\"><u>Airbrake</u></a>,\n",
       " <a href=\"https://www.15five.com/careers/\" target=\"_blank\"><u>15Five</u></a>,\n",
       " <a href=\"https://dnsimple.com/jobs\" target=\"_blank\"><u>DNSimple</u></a>,\n",
       " <a href=\"https://duckduckgo.com/hiring/\" target=\"_blank\"><u>DuckDuckGo</u></a>,\n",
       " <a href=\"https://firstbasehq.com/careers\" target=\"_blank\"><u>FirstBaseHQ</u></a>,\n",
       " <a href=\"https://apply.workable.com/overleaf/\" target=\"_blank\"><u>Overleaf</u></a>,\n",
       " <a href=\"https://powertofly.com/companies/powertofly-com\" target=\"_blank\"><u>PowerToFly</u></a>,\n",
       " <a href=\"https://requis.com/company/join/\" target=\"_blank\"><u>Requis</u></a>,\n",
       " <a href=\"https://www.toptal.com/careers\" target=\"_blank\"><u>Toptal</u></a>,\n",
       " <a href=\"https://bandcamp.com/jobs\" target=\"_blank\"><u>Bandcamp</u></a>,\n",
       " <a href=\"https://trycircular.recruitee.com/\" target=\"_blank\"><u>Circular</u></a>,\n",
       " <a href=\"https://www.flexjobs.com/careers-at-flexjobs\" target=\"_blank\"><u>Flexjobs</u></a>,\n",
       " <a href=\"https://hopin.com/careers\" target=\"_blank\"><u>Hopin</u></a>]"
      ]
     },
     "execution_count": 34,
     "metadata": {},
     "output_type": "execute_result"
    }
   ],
   "source": [
    "links"
   ]
  },
  {
   "cell_type": "code",
   "execution_count": 35,
   "metadata": {},
   "outputs": [
    {
     "name": "stdout",
     "output_type": "stream",
     "text": [
      "Olark https://www.olark.com/jobs\n",
      "Help Scout https://www.helpscout.com/company/careers/\n",
      "Close https://jobs.lever.co/close.io/\n",
      "Prezly https://careers.prezly.com/\n",
      "Skillcrush https://skillcrush.breezy.hr/\n",
      "Articulate https://articulate.com/company/careers\n",
      "AULA https://aulaeducation.recruitee.com/\n",
      "MangoLanguages https://mangolanguages.com/company/careers/\n",
      "Fire Engine Red https://www.fire-engine-red.com/career/\n",
      "Stripe https://stripe.com/jobs/search?l=remote\n",
      "YNAB https://www.youneedabudget.com/landing/jobs/\n",
      "Xapo https://xapo.com/careers/\n",
      "Blockchain https://www.blockchain.com/careers#jobs\n",
      "DollarSprout https://www.dollarsprout.com/careers/\n",
      "MailerLite https://www.mailerlite.com/jobs\n",
      "MailerSend https://www.mailersend.com/jobs\n",
      "Zapier https://zapier.com/jobs/\n",
      "Hotjar https://careers.hotjar.com/\n",
      "Edgar https://meetedgar.com/careers/\n",
      "Buffer https://journey.buffer.com/\n",
      "Xtensio https://xtensio.com/careers/\n",
      "LeadsBridge https://leadsbridge.freshteam.com/jobs/\n",
      "SkyVerge https://www.skyverge.com/jobs/\n",
      "Memberful https://memberful.com/jobs/\n",
      "Arkency https://blog.arkency.com/join-our-team/\n",
      "Automattic https://automattic.com/work-with-us/\n",
      "Clevertech https://www.clevertech.biz/careers\n",
      "DockYard https://dockyardinc1.recruitee.com/\n",
      "Genuitec https://www.genuitec.com/company/careers/\n",
      "Modern Tribe https://tri.be/careers\n",
      "Guilded https://www.guilded.gg/jobs\n",
      "Semaphore CI https://semaphoreci.com/about/careers\n",
      "Buildkite https://buildkite.com/careers\n",
      "Knack https://www.knack.com/jobs\n",
      "InVision https://www.invisionapp.com/careers\n",
      "Collage https://www.collage.com/careers\n",
      "1 Second Everyday https://1secondeveryday.tilda.ws/jobs\n",
      "Uscreen https://www.uscreen.tv/careers/\n",
      "Superside https://www.superside.com/career\n",
      "84codes https://www.84codes.com/career/\n",
      "GitLab https://about.gitlab.com/jobs/\n",
      "Axelerant https://www.axelerant.com/careers\n",
      "BuddyBoss https://www.buddyboss.com/careers/\n",
      "Ghost https://careers.ghost.org/\n",
      "Particular Software https://particular.net/careers\n",
      "Zyte https://www.zyte.com/jobs/\n",
      "Skyscrapers https://skyscrapers.eu/jobs/\n",
      "Sourcegraph https://about.sourcegraph.com/jobs/\n",
      "Ten https://ten7.com/careers\n",
      "Ycode https://www.ycode.com/jobs\n",
      "Sketch https://www.sketch.com/jobs/\n",
      "10up https://10up.com/careers/\n",
      "PitchLift https://pitchlift.co/about/careers\n",
      "Bejamas https://bejamas.io/careers/\n",
      "X-Team https://x-team.com/join/\n",
      "Basecamp https://basecamp.com/about/jobs\n",
      "Doist https://doist.com/jobs/\n",
      "BestSelf https://apply.workable.com/bestself/\n",
      "Time Doctor https://www.timedoctor.com/jobs.html\n",
      "Hubstaff https://hubstaff.com/jobs\n",
      "Toggl https://www.toggl.com/jobs/\n",
      "Dollar Flight Club https://dollar-flight-club.breezy.hr/\n",
      "Backpack Travel https://www.backpackertravel.org/job-openings/\n",
      "BootsnAll https://www.bootsnall.com/about-us/jobs\n",
      "Cloudbeds https://www.cloudbeds.com/careers/\n",
      "OnTheGoSystems https://www.onthegosystems.com/jobs/\n",
      "Human Made https://humanmade.com/hiring/\n",
      "rtCamp https://rtcamp.com/careers/\n",
      "Soflyy http://soflyy.com/\n",
      "Airbrake https://jobs.airbrake.io/\n",
      "15Five https://www.15five.com/careers/\n",
      "DNSimple https://dnsimple.com/jobs\n",
      "DuckDuckGo https://duckduckgo.com/hiring/\n",
      "FirstBaseHQ https://firstbasehq.com/careers\n",
      "Overleaf https://apply.workable.com/overleaf/\n",
      "PowerToFly https://powertofly.com/companies/powertofly-com\n",
      "Requis https://requis.com/company/join/\n",
      "Toptal https://www.toptal.com/careers\n",
      "Bandcamp https://bandcamp.com/jobs\n",
      "Circular https://trycircular.recruitee.com/\n",
      "Flexjobs https://www.flexjobs.com/careers-at-flexjobs\n",
      "Hopin https://hopin.com/careers\n"
     ]
    }
   ],
   "source": [
    "for l in links:\n",
    "    print(l.get_text(), l.get(\"href\"))"
   ]
  },
  {
   "cell_type": "code",
   "execution_count": 36,
   "metadata": {},
   "outputs": [],
   "source": [
    "master_dict = {l.get_text():l.get(\"href\")for l in links}"
   ]
  },
  {
   "cell_type": "markdown",
   "metadata": {},
   "source": [
    "## 3. Pull info from other websites"
   ]
  },
  {
   "cell_type": "code",
   "execution_count": 37,
   "metadata": {},
   "outputs": [],
   "source": [
    "url2 = \"https://blog.hallwayapp.com/list-remote-first-companies/\""
   ]
  },
  {
   "cell_type": "code",
   "execution_count": 38,
   "metadata": {},
   "outputs": [],
   "source": [
    "response2 = requests.get(url2)\n",
    "soup2 = bs4.BeautifulSoup(response2.content, \"html.parser\")"
   ]
  },
  {
   "cell_type": "code",
   "execution_count": 39,
   "metadata": {},
   "outputs": [],
   "source": [
    "list2 = soup2.find(\"ol\").find_all(\"li\")"
   ]
  },
  {
   "cell_type": "code",
   "execution_count": 40,
   "metadata": {},
   "outputs": [
    {
     "name": "stdout",
     "output_type": "stream",
     "text": [
      "10up\n",
      "Action Verb\n",
      "Ad Hoc\n",
      "Aha!\n",
      "Alley Interactive\n",
      "Arkency\n",
      "Articulate\n",
      "Automattic\n",
      "Axelerant\n",
      "Bandcamp\n",
      "Basecamp\n",
      "Bluespark\n",
      "Buffer\n",
      "Clevertech\n",
      "Close.io\n",
      "Collage\n",
      "CROmetrics\n",
      "Customer.io\n",
      "DNSimple\n",
      "Doist\n",
      "Dotsub\n",
      "Edgar\n",
      "Elastic\n",
      "FineTune Learning\n",
      "Fire Engine Red\n",
      "FlexJobs\n",
      "Four Kitchens\n",
      "Genuitec\n",
      "Ghost\n",
      "GitLab\n",
      "Healthfinch\n",
      "Help Scout\n",
      "HiringThing\n",
      "Hotjar\n",
      "HubStaff\n",
      "Human Made\n",
      "InVision\n",
      "Knack\n",
      "Lullabot\n",
      "Modern Tribe\n",
      "MonetizeMore\n",
      "NodeSource\n",
      "Olark\n",
      "On The Go Systems\n",
      "Parse.ly\n",
      "Pathable\n",
      "Particular Software\n",
      "Rainforest QA\n",
      "Real HQ\n",
      "Scrapinghub\n",
      "Semaphore CI\n",
      "Simple A\n",
      "SitePen\n",
      "Skyscrapers\n",
      "SkyVerge\n",
      "Soflyy\n",
      "Spreaker\n",
      "TaxJar\n",
      "Ten7\n",
      "Time Doctor\n",
      "Toggl\n",
      "Toptal\n",
      "Xapo\n",
      "X-Team\n",
      "Xtensio\n",
      "YNAB\n",
      "Zapier\n"
     ]
    }
   ],
   "source": [
    "#need to slice because two astrics start each company name\n",
    "for l in list2:\n",
    "    print(l.get_text()[2:])"
   ]
  },
  {
   "cell_type": "code",
   "execution_count": 41,
   "metadata": {},
   "outputs": [
    {
     "data": {
      "text/plain": [
       "82"
      ]
     },
     "execution_count": 41,
     "metadata": {},
     "output_type": "execute_result"
    }
   ],
   "source": [
    "len(master_dict)"
   ]
  },
  {
   "cell_type": "code",
   "execution_count": 42,
   "metadata": {},
   "outputs": [
    {
     "data": {
      "text/plain": [
       "67"
      ]
     },
     "execution_count": 42,
     "metadata": {},
     "output_type": "execute_result"
    }
   ],
   "source": [
    "len(list2)"
   ]
  },
  {
   "cell_type": "code",
   "execution_count": 43,
   "metadata": {},
   "outputs": [
    {
     "name": "stdout",
     "output_type": "stream",
     "text": [
      "Action Verb\n",
      "Ad Hoc\n",
      "Aha!\n",
      "Alley Interactive\n",
      "Bluespark\n",
      "Close.io\n",
      "CROmetrics\n",
      "Customer.io\n",
      "Dotsub\n",
      "Elastic\n",
      "FineTune Learning\n",
      "FlexJobs\n",
      "Four Kitchens\n",
      "Healthfinch\n",
      "HiringThing\n",
      "HubStaff\n",
      "Lullabot\n",
      "MonetizeMore\n",
      "NodeSource\n",
      "On The Go Systems\n",
      "Parse.ly\n",
      "Pathable\n",
      "Rainforest QA\n",
      "Real HQ\n",
      "Scrapinghub\n",
      "Simple A\n",
      "SitePen\n",
      "Spreaker\n",
      "TaxJar\n",
      "Ten7\n"
     ]
    }
   ],
   "source": [
    "for l in list2:\n",
    "    if l.get_text()[2:] not in master_dict.keys():\n",
    "        print(l.get_text()[2:])"
   ]
  },
  {
   "cell_type": "code",
   "execution_count": 44,
   "metadata": {},
   "outputs": [],
   "source": [
    "new_companies = [l.get_text()[2:] for l in list2 if l.get_text()[2:] not in master_dict.keys()]"
   ]
  },
  {
   "cell_type": "code",
   "execution_count": 45,
   "metadata": {},
   "outputs": [
    {
     "data": {
      "text/plain": [
       "30"
      ]
     },
     "execution_count": 45,
     "metadata": {},
     "output_type": "execute_result"
    }
   ],
   "source": [
    "# there are 30 companies I need to add to the master dict\n",
    "len(new_companies)"
   ]
  },
  {
   "cell_type": "code",
   "execution_count": 48,
   "metadata": {},
   "outputs": [],
   "source": [
    "for l in list2:\n",
    "    if l.get_text()[2:] in new_companies:\n",
    "            master_dict[l.get_text()[2:]] = l.a.get(\"href\")"
   ]
  },
  {
   "cell_type": "code",
   "execution_count": 49,
   "metadata": {},
   "outputs": [
    {
     "data": {
      "text/plain": [
       "112"
      ]
     },
     "execution_count": 49,
     "metadata": {},
     "output_type": "execute_result"
    }
   ],
   "source": [
    "len(master_dict)"
   ]
  },
  {
   "cell_type": "code",
   "execution_count": 50,
   "metadata": {},
   "outputs": [],
   "source": [
    "master_df = pd.DataFrame(master_dict.items(), columns=[\"Company\", \"URL\"])"
   ]
  },
  {
   "cell_type": "code",
   "execution_count": 51,
   "metadata": {},
   "outputs": [],
   "source": [
    "if CSV:\n",
    "    master_df.to_csv(\"data/name_url.csv\")"
   ]
  },
  {
   "cell_type": "markdown",
   "metadata": {},
   "source": [
    "### Before workbook 2, I will go in and manually check websites to ensure each site leads to where the jobs are actually posted - not just the company's overall career page.\n",
    "\n",
    "- Will also check to see if these companies use hr software and will notate which one (breezyhr, greenhouse, etc)\n",
    "- will double check that there were not company duplicates (misspellings, etc since these were scraped from blogs where human error is possible)"
   ]
  },
  {
   "cell_type": "code",
   "execution_count": null,
   "metadata": {},
   "outputs": [],
   "source": []
  }
 ],
 "metadata": {
  "kernelspec": {
   "display_name": "Python 3",
   "language": "python",
   "name": "python3"
  },
  "language_info": {
   "codemirror_mode": {
    "name": "ipython",
    "version": 3
   },
   "file_extension": ".py",
   "mimetype": "text/x-python",
   "name": "python",
   "nbconvert_exporter": "python",
   "pygments_lexer": "ipython3",
   "version": "3.8.5"
  }
 },
 "nbformat": 4,
 "nbformat_minor": 4
}
